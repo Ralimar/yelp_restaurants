{
 "cells": [
  {
   "cell_type": "code",
   "execution_count": 1,
   "metadata": {},
   "outputs": [],
   "source": [
    "import numpy as np\n",
    "import pandas as pd\n",
    "import datetime\n",
    "import time\n",
    "import regex as re\n",
    "from sklearn.model_selection import train_test_split, GridSearchCV\n",
    "from sklearn.preprocessing import StandardScaler\n",
    "from sklearn.pipeline import Pipeline, make_pipeline, make_union\n",
    "from sklearn.linear_model import LogisticRegression\n",
    "from sklearn.feature_extraction.text import CountVectorizer, TfidfVectorizer\n",
    "from sklearn.model_selection import train_test_split\n",
    "from sklearn.naive_bayes import BernoulliNB, GaussianNB, MultinomialNB\n",
    "from sklearn import metrics\n",
    "from sklearn.decomposition import PCA\n",
    "from nltk.tokenize import RegexpTokenizer\n",
    "from nltk.stem import WordNetLemmatizer\n",
    "from nltk.corpus import stopwords\n",
    "import matplotlib.pyplot as plt\n"
   ]
  },
  {
   "cell_type": "code",
   "execution_count": 2,
   "metadata": {},
   "outputs": [],
   "source": [
    "reviews = pd.read_csv('./yelp_reviews.csv')"
   ]
  },
  {
   "cell_type": "code",
   "execution_count": 3,
   "metadata": {},
   "outputs": [
    {
     "data": {
      "text/html": [
       "<div>\n",
       "<style scoped>\n",
       "    .dataframe tbody tr th:only-of-type {\n",
       "        vertical-align: middle;\n",
       "    }\n",
       "\n",
       "    .dataframe tbody tr th {\n",
       "        vertical-align: top;\n",
       "    }\n",
       "\n",
       "    .dataframe thead th {\n",
       "        text-align: right;\n",
       "    }\n",
       "</style>\n",
       "<table border=\"1\" class=\"dataframe\">\n",
       "  <thead>\n",
       "    <tr style=\"text-align: right;\">\n",
       "      <th></th>\n",
       "      <th>business_id</th>\n",
       "      <th>stars</th>\n",
       "      <th>useful</th>\n",
       "      <th>funny</th>\n",
       "      <th>cool</th>\n",
       "      <th>text</th>\n",
       "    </tr>\n",
       "  </thead>\n",
       "  <tbody>\n",
       "    <tr>\n",
       "      <th>0</th>\n",
       "      <td>--1UhMGODdWsrMastO9DZw</td>\n",
       "      <td>5</td>\n",
       "      <td>0</td>\n",
       "      <td>0</td>\n",
       "      <td>0</td>\n",
       "      <td>I just love this little Mexican cafeteria-styl...</td>\n",
       "    </tr>\n",
       "    <tr>\n",
       "      <th>1</th>\n",
       "      <td>--1UhMGODdWsrMastO9DZw</td>\n",
       "      <td>3</td>\n",
       "      <td>0</td>\n",
       "      <td>0</td>\n",
       "      <td>0</td>\n",
       "      <td>We got guacamole, both the vegetarian tacos (R...</td>\n",
       "    </tr>\n",
       "    <tr>\n",
       "      <th>2</th>\n",
       "      <td>--1UhMGODdWsrMastO9DZw</td>\n",
       "      <td>4</td>\n",
       "      <td>0</td>\n",
       "      <td>0</td>\n",
       "      <td>1</td>\n",
       "      <td>Downtown west which honestly feels like Downto...</td>\n",
       "    </tr>\n",
       "    <tr>\n",
       "      <th>3</th>\n",
       "      <td>--1UhMGODdWsrMastO9DZw</td>\n",
       "      <td>5</td>\n",
       "      <td>0</td>\n",
       "      <td>0</td>\n",
       "      <td>0</td>\n",
       "      <td>Glad these guys moved in on the block! It's qu...</td>\n",
       "    </tr>\n",
       "    <tr>\n",
       "      <th>4</th>\n",
       "      <td>--1UhMGODdWsrMastO9DZw</td>\n",
       "      <td>5</td>\n",
       "      <td>2</td>\n",
       "      <td>1</td>\n",
       "      <td>2</td>\n",
       "      <td>Fantastic spot for lunch with great value for ...</td>\n",
       "    </tr>\n",
       "  </tbody>\n",
       "</table>\n",
       "</div>"
      ],
      "text/plain": [
       "              business_id  stars  useful  funny  cool  \\\n",
       "0  --1UhMGODdWsrMastO9DZw      5       0      0     0   \n",
       "1  --1UhMGODdWsrMastO9DZw      3       0      0     0   \n",
       "2  --1UhMGODdWsrMastO9DZw      4       0      0     1   \n",
       "3  --1UhMGODdWsrMastO9DZw      5       0      0     0   \n",
       "4  --1UhMGODdWsrMastO9DZw      5       2      1     2   \n",
       "\n",
       "                                                text  \n",
       "0  I just love this little Mexican cafeteria-styl...  \n",
       "1  We got guacamole, both the vegetarian tacos (R...  \n",
       "2  Downtown west which honestly feels like Downto...  \n",
       "3  Glad these guys moved in on the block! It's qu...  \n",
       "4  Fantastic spot for lunch with great value for ...  "
      ]
     },
     "execution_count": 3,
     "metadata": {},
     "output_type": "execute_result"
    }
   ],
   "source": [
    "reviews.head()"
   ]
  },
  {
   "cell_type": "code",
   "execution_count": 4,
   "metadata": {},
   "outputs": [],
   "source": [
    "trim_df = reviews"
   ]
  },
  {
   "cell_type": "code",
   "execution_count": 5,
   "metadata": {},
   "outputs": [],
   "source": [
    "trim_df.drop(columns=['stars', 'useful', 'funny', 'cool'], inplace=True)"
   ]
  },
  {
   "cell_type": "code",
   "execution_count": 6,
   "metadata": {},
   "outputs": [
    {
     "data": {
      "text/html": [
       "<div>\n",
       "<style scoped>\n",
       "    .dataframe tbody tr th:only-of-type {\n",
       "        vertical-align: middle;\n",
       "    }\n",
       "\n",
       "    .dataframe tbody tr th {\n",
       "        vertical-align: top;\n",
       "    }\n",
       "\n",
       "    .dataframe thead th {\n",
       "        text-align: right;\n",
       "    }\n",
       "</style>\n",
       "<table border=\"1\" class=\"dataframe\">\n",
       "  <thead>\n",
       "    <tr style=\"text-align: right;\">\n",
       "      <th></th>\n",
       "      <th>business_id</th>\n",
       "      <th>text</th>\n",
       "    </tr>\n",
       "  </thead>\n",
       "  <tbody>\n",
       "    <tr>\n",
       "      <th>0</th>\n",
       "      <td>--1UhMGODdWsrMastO9DZw</td>\n",
       "      <td>I just love this little Mexican cafeteria-styl...</td>\n",
       "    </tr>\n",
       "    <tr>\n",
       "      <th>1</th>\n",
       "      <td>--1UhMGODdWsrMastO9DZw</td>\n",
       "      <td>We got guacamole, both the vegetarian tacos (R...</td>\n",
       "    </tr>\n",
       "    <tr>\n",
       "      <th>2</th>\n",
       "      <td>--1UhMGODdWsrMastO9DZw</td>\n",
       "      <td>Downtown west which honestly feels like Downto...</td>\n",
       "    </tr>\n",
       "    <tr>\n",
       "      <th>3</th>\n",
       "      <td>--1UhMGODdWsrMastO9DZw</td>\n",
       "      <td>Glad these guys moved in on the block! It's qu...</td>\n",
       "    </tr>\n",
       "    <tr>\n",
       "      <th>4</th>\n",
       "      <td>--1UhMGODdWsrMastO9DZw</td>\n",
       "      <td>Fantastic spot for lunch with great value for ...</td>\n",
       "    </tr>\n",
       "    <tr>\n",
       "      <th>...</th>\n",
       "      <td>...</td>\n",
       "      <td>...</td>\n",
       "    </tr>\n",
       "    <tr>\n",
       "      <th>5056222</th>\n",
       "      <td>zzzaIBwimxVej4tY6qFOUQ</td>\n",
       "      <td>After reading all these good reviews, I was pr...</td>\n",
       "    </tr>\n",
       "    <tr>\n",
       "      <th>5056223</th>\n",
       "      <td>zzzaIBwimxVej4tY6qFOUQ</td>\n",
       "      <td>This place is very good. At first i thought it...</td>\n",
       "    </tr>\n",
       "    <tr>\n",
       "      <th>5056224</th>\n",
       "      <td>zzzaIBwimxVej4tY6qFOUQ</td>\n",
       "      <td>Guthrie's is a great choice for people who are...</td>\n",
       "    </tr>\n",
       "    <tr>\n",
       "      <th>5056225</th>\n",
       "      <td>zzzaIBwimxVej4tY6qFOUQ</td>\n",
       "      <td>This location used to be a KFC, I went there o...</td>\n",
       "    </tr>\n",
       "    <tr>\n",
       "      <th>5056226</th>\n",
       "      <td>zzzaIBwimxVej4tY6qFOUQ</td>\n",
       "      <td>My boyfriend loves the sweet tea! Just as good...</td>\n",
       "    </tr>\n",
       "  </tbody>\n",
       "</table>\n",
       "<p>5056227 rows × 2 columns</p>\n",
       "</div>"
      ],
      "text/plain": [
       "                    business_id  \\\n",
       "0        --1UhMGODdWsrMastO9DZw   \n",
       "1        --1UhMGODdWsrMastO9DZw   \n",
       "2        --1UhMGODdWsrMastO9DZw   \n",
       "3        --1UhMGODdWsrMastO9DZw   \n",
       "4        --1UhMGODdWsrMastO9DZw   \n",
       "...                         ...   \n",
       "5056222  zzzaIBwimxVej4tY6qFOUQ   \n",
       "5056223  zzzaIBwimxVej4tY6qFOUQ   \n",
       "5056224  zzzaIBwimxVej4tY6qFOUQ   \n",
       "5056225  zzzaIBwimxVej4tY6qFOUQ   \n",
       "5056226  zzzaIBwimxVej4tY6qFOUQ   \n",
       "\n",
       "                                                      text  \n",
       "0        I just love this little Mexican cafeteria-styl...  \n",
       "1        We got guacamole, both the vegetarian tacos (R...  \n",
       "2        Downtown west which honestly feels like Downto...  \n",
       "3        Glad these guys moved in on the block! It's qu...  \n",
       "4        Fantastic spot for lunch with great value for ...  \n",
       "...                                                    ...  \n",
       "5056222  After reading all these good reviews, I was pr...  \n",
       "5056223  This place is very good. At first i thought it...  \n",
       "5056224  Guthrie's is a great choice for people who are...  \n",
       "5056225  This location used to be a KFC, I went there o...  \n",
       "5056226  My boyfriend loves the sweet tea! Just as good...  \n",
       "\n",
       "[5056227 rows x 2 columns]"
      ]
     },
     "execution_count": 6,
     "metadata": {},
     "output_type": "execute_result"
    }
   ],
   "source": [
    "trim_df"
   ]
  },
  {
   "cell_type": "code",
   "execution_count": 7,
   "metadata": {},
   "outputs": [
    {
     "data": {
      "text/html": [
       "<div>\n",
       "<style scoped>\n",
       "    .dataframe tbody tr th:only-of-type {\n",
       "        vertical-align: middle;\n",
       "    }\n",
       "\n",
       "    .dataframe tbody tr th {\n",
       "        vertical-align: top;\n",
       "    }\n",
       "\n",
       "    .dataframe thead th {\n",
       "        text-align: right;\n",
       "    }\n",
       "</style>\n",
       "<table border=\"1\" class=\"dataframe\">\n",
       "  <thead>\n",
       "    <tr style=\"text-align: right;\">\n",
       "      <th></th>\n",
       "      <th>text</th>\n",
       "    </tr>\n",
       "    <tr>\n",
       "      <th>business_id</th>\n",
       "      <th></th>\n",
       "    </tr>\n",
       "  </thead>\n",
       "  <tbody>\n",
       "    <tr>\n",
       "      <th>--1UhMGODdWsrMastO9DZw</th>\n",
       "      <td>29</td>\n",
       "    </tr>\n",
       "    <tr>\n",
       "      <th>--6MefnULPED_I942VcFNA</th>\n",
       "      <td>57</td>\n",
       "    </tr>\n",
       "    <tr>\n",
       "      <th>--9e1ONYQuAa-CB_Rrw7Tw</th>\n",
       "      <td>1816</td>\n",
       "    </tr>\n",
       "    <tr>\n",
       "      <th>--DaPTJW3-tB1vP-PfdTEg</th>\n",
       "      <td>51</td>\n",
       "    </tr>\n",
       "    <tr>\n",
       "      <th>--FBCX-N37CMYDfs790Bnw</th>\n",
       "      <td>174</td>\n",
       "    </tr>\n",
       "    <tr>\n",
       "      <th>...</th>\n",
       "      <td>...</td>\n",
       "    </tr>\n",
       "    <tr>\n",
       "      <th>zzsU528uoRB6qZUGhKDa6w</th>\n",
       "      <td>7</td>\n",
       "    </tr>\n",
       "    <tr>\n",
       "      <th>zzvlwkcNR1CCqOPXwuvz2A</th>\n",
       "      <td>7</td>\n",
       "    </tr>\n",
       "    <tr>\n",
       "      <th>zzwhN7x37nyjP0ZM8oiHmw</th>\n",
       "      <td>78</td>\n",
       "    </tr>\n",
       "    <tr>\n",
       "      <th>zzwicjPC9g246MK2M1ZFBA</th>\n",
       "      <td>87</td>\n",
       "    </tr>\n",
       "    <tr>\n",
       "      <th>zzzaIBwimxVej4tY6qFOUQ</th>\n",
       "      <td>38</td>\n",
       "    </tr>\n",
       "  </tbody>\n",
       "</table>\n",
       "<p>63961 rows × 1 columns</p>\n",
       "</div>"
      ],
      "text/plain": [
       "                        text\n",
       "business_id                 \n",
       "--1UhMGODdWsrMastO9DZw    29\n",
       "--6MefnULPED_I942VcFNA    57\n",
       "--9e1ONYQuAa-CB_Rrw7Tw  1816\n",
       "--DaPTJW3-tB1vP-PfdTEg    51\n",
       "--FBCX-N37CMYDfs790Bnw   174\n",
       "...                      ...\n",
       "zzsU528uoRB6qZUGhKDa6w     7\n",
       "zzvlwkcNR1CCqOPXwuvz2A     7\n",
       "zzwhN7x37nyjP0ZM8oiHmw    78\n",
       "zzwicjPC9g246MK2M1ZFBA    87\n",
       "zzzaIBwimxVej4tY6qFOUQ    38\n",
       "\n",
       "[63961 rows x 1 columns]"
      ]
     },
     "execution_count": 7,
     "metadata": {},
     "output_type": "execute_result"
    }
   ],
   "source": [
    "reviews.groupby(['business_id']).count()\n",
    "#Grouping by business."
   ]
  },
  {
   "cell_type": "code",
   "execution_count": 27,
   "metadata": {},
   "outputs": [],
   "source": [
    "agg_df = trim_df.groupby('business_id')['text'].apply(','.join)"
   ]
  },
  {
   "cell_type": "code",
   "execution_count": 24,
   "metadata": {},
   "outputs": [],
   "source": [
    "trim_df.dropna(inplace=True)\n",
    "#dropping any NAs just in case.  "
   ]
  },
  {
   "cell_type": "code",
   "execution_count": 28,
   "metadata": {},
   "outputs": [
    {
     "data": {
      "text/plain": [
       "business_id\n",
       "--1UhMGODdWsrMastO9DZw    I just love this little Mexican cafeteria-styl...\n",
       "--6MefnULPED_I942VcFNA    Great selection of authentic Chinese dishes. T...\n",
       "--9e1ONYQuAa-CB_Rrw7Tw    Lissa G and I stopped in for lunch.  We've bee...\n",
       "--DaPTJW3-tB1vP-PfdTEg    3.5 stars.  Fast basic breakfast. Good value. ...\n",
       "--FBCX-N37CMYDfs790Bnw    I just ordered lemonade and it cost me $5.50! ...\n",
       "                                                ...                        \n",
       "zzsU528uoRB6qZUGhKDa6w    Boring!  This underground layer is almost spoo...\n",
       "zzvlwkcNR1CCqOPXwuvz2A    $11 dollars (after tax) for a \"Special Pork Sa...\n",
       "zzwhN7x37nyjP0ZM8oiHmw    Had a lovely summer dinner on the patio. Great...\n",
       "zzwicjPC9g246MK2M1ZFBA    Ordered fish & chips......steamed broccoli was...\n",
       "zzzaIBwimxVej4tY6qFOUQ    Guthrie's recently replaced the KFC near where...\n",
       "Name: text, Length: 63961, dtype: object"
      ]
     },
     "execution_count": 28,
     "metadata": {},
     "output_type": "execute_result"
    }
   ],
   "source": [
    "agg_df"
   ]
  },
  {
   "cell_type": "code",
   "execution_count": 31,
   "metadata": {},
   "outputs": [],
   "source": [
    "agg_df = pd.DataFrame(agg_df)\n",
    "#Converting to a pandas dataframe.  "
   ]
  },
  {
   "cell_type": "code",
   "execution_count": 38,
   "metadata": {},
   "outputs": [],
   "source": [
    "agg_reviews = agg_df"
   ]
  },
  {
   "cell_type": "code",
   "execution_count": 49,
   "metadata": {},
   "outputs": [],
   "source": [
    "agg_reviews.reset_index(inplace=True)"
   ]
  },
  {
   "cell_type": "code",
   "execution_count": 50,
   "metadata": {},
   "outputs": [
    {
     "data": {
      "text/html": [
       "<div>\n",
       "<style scoped>\n",
       "    .dataframe tbody tr th:only-of-type {\n",
       "        vertical-align: middle;\n",
       "    }\n",
       "\n",
       "    .dataframe tbody tr th {\n",
       "        vertical-align: top;\n",
       "    }\n",
       "\n",
       "    .dataframe thead th {\n",
       "        text-align: right;\n",
       "    }\n",
       "</style>\n",
       "<table border=\"1\" class=\"dataframe\">\n",
       "  <thead>\n",
       "    <tr style=\"text-align: right;\">\n",
       "      <th></th>\n",
       "      <th>business_id</th>\n",
       "      <th>text</th>\n",
       "    </tr>\n",
       "  </thead>\n",
       "  <tbody>\n",
       "    <tr>\n",
       "      <th>0</th>\n",
       "      <td>--1UhMGODdWsrMastO9DZw</td>\n",
       "      <td>I just love this little Mexican cafeteria-styl...</td>\n",
       "    </tr>\n",
       "    <tr>\n",
       "      <th>1</th>\n",
       "      <td>--6MefnULPED_I942VcFNA</td>\n",
       "      <td>Great selection of authentic Chinese dishes. T...</td>\n",
       "    </tr>\n",
       "    <tr>\n",
       "      <th>2</th>\n",
       "      <td>--9e1ONYQuAa-CB_Rrw7Tw</td>\n",
       "      <td>Lissa G and I stopped in for lunch.  We've bee...</td>\n",
       "    </tr>\n",
       "    <tr>\n",
       "      <th>3</th>\n",
       "      <td>--DaPTJW3-tB1vP-PfdTEg</td>\n",
       "      <td>3.5 stars.  Fast basic breakfast. Good value. ...</td>\n",
       "    </tr>\n",
       "    <tr>\n",
       "      <th>4</th>\n",
       "      <td>--FBCX-N37CMYDfs790Bnw</td>\n",
       "      <td>I just ordered lemonade and it cost me $5.50! ...</td>\n",
       "    </tr>\n",
       "    <tr>\n",
       "      <th>...</th>\n",
       "      <td>...</td>\n",
       "      <td>...</td>\n",
       "    </tr>\n",
       "    <tr>\n",
       "      <th>63956</th>\n",
       "      <td>zzsU528uoRB6qZUGhKDa6w</td>\n",
       "      <td>Boring!  This underground layer is almost spoo...</td>\n",
       "    </tr>\n",
       "    <tr>\n",
       "      <th>63957</th>\n",
       "      <td>zzvlwkcNR1CCqOPXwuvz2A</td>\n",
       "      <td>$11 dollars (after tax) for a \"Special Pork Sa...</td>\n",
       "    </tr>\n",
       "    <tr>\n",
       "      <th>63958</th>\n",
       "      <td>zzwhN7x37nyjP0ZM8oiHmw</td>\n",
       "      <td>Had a lovely summer dinner on the patio. Great...</td>\n",
       "    </tr>\n",
       "    <tr>\n",
       "      <th>63959</th>\n",
       "      <td>zzwicjPC9g246MK2M1ZFBA</td>\n",
       "      <td>Ordered fish &amp; chips......steamed broccoli was...</td>\n",
       "    </tr>\n",
       "    <tr>\n",
       "      <th>63960</th>\n",
       "      <td>zzzaIBwimxVej4tY6qFOUQ</td>\n",
       "      <td>Guthrie's recently replaced the KFC near where...</td>\n",
       "    </tr>\n",
       "  </tbody>\n",
       "</table>\n",
       "<p>63961 rows × 2 columns</p>\n",
       "</div>"
      ],
      "text/plain": [
       "                  business_id  \\\n",
       "0      --1UhMGODdWsrMastO9DZw   \n",
       "1      --6MefnULPED_I942VcFNA   \n",
       "2      --9e1ONYQuAa-CB_Rrw7Tw   \n",
       "3      --DaPTJW3-tB1vP-PfdTEg   \n",
       "4      --FBCX-N37CMYDfs790Bnw   \n",
       "...                       ...   \n",
       "63956  zzsU528uoRB6qZUGhKDa6w   \n",
       "63957  zzvlwkcNR1CCqOPXwuvz2A   \n",
       "63958  zzwhN7x37nyjP0ZM8oiHmw   \n",
       "63959  zzwicjPC9g246MK2M1ZFBA   \n",
       "63960  zzzaIBwimxVej4tY6qFOUQ   \n",
       "\n",
       "                                                    text  \n",
       "0      I just love this little Mexican cafeteria-styl...  \n",
       "1      Great selection of authentic Chinese dishes. T...  \n",
       "2      Lissa G and I stopped in for lunch.  We've bee...  \n",
       "3      3.5 stars.  Fast basic breakfast. Good value. ...  \n",
       "4      I just ordered lemonade and it cost me $5.50! ...  \n",
       "...                                                  ...  \n",
       "63956  Boring!  This underground layer is almost spoo...  \n",
       "63957  $11 dollars (after tax) for a \"Special Pork Sa...  \n",
       "63958  Had a lovely summer dinner on the patio. Great...  \n",
       "63959  Ordered fish & chips......steamed broccoli was...  \n",
       "63960  Guthrie's recently replaced the KFC near where...  \n",
       "\n",
       "[63961 rows x 2 columns]"
      ]
     },
     "execution_count": 50,
     "metadata": {},
     "output_type": "execute_result"
    }
   ],
   "source": [
    "agg_reviews"
   ]
  },
  {
   "cell_type": "code",
   "execution_count": 51,
   "metadata": {},
   "outputs": [],
   "source": [
    "agg_reviews.to_csv('./agg_reviews.csv', index=False)"
   ]
  },
  {
   "cell_type": "code",
   "execution_count": 2,
   "metadata": {},
   "outputs": [],
   "source": [
    "df = vaex.from_csv('./agg_reviews.csv', convert=True, copy_index=True)\n",
    "#reading in data as vaex format"
   ]
  },
  {
   "cell_type": "code",
   "execution_count": 3,
   "metadata": {},
   "outputs": [
    {
     "data": {
      "text/html": [
       "<table>\n",
       "<thead>\n",
       "<tr><th>#                            </th><th>text                                               </th></tr>\n",
       "</thead>\n",
       "<tbody>\n",
       "<tr><td>&lt;i style=&#x27;opacity: 0.6&#x27;&gt;0&lt;/i&gt;</td><td>&#x27;I just love this little Mexican cafeteria-style...</td></tr>\n",
       "<tr><td>&lt;i style=&#x27;opacity: 0.6&#x27;&gt;1&lt;/i&gt;</td><td>&#x27;Great selection of authentic Chinese dishes. Th...</td></tr>\n",
       "</tbody>\n",
       "</table>"
      ],
      "text/plain": [
       "  #  text\n",
       "  0  'I just love this little Mexican cafeteria-style...\n",
       "  1  'Great selection of authentic Chinese dishes. Th..."
      ]
     },
     "execution_count": 3,
     "metadata": {},
     "output_type": "execute_result"
    }
   ],
   "source": [
    "df.head(2)"
   ]
  },
  {
   "cell_type": "code",
   "execution_count": 4,
   "metadata": {},
   "outputs": [],
   "source": [
    "df['polarity'] = df['text'].apply(lambda Text:pd.Series(TextBlob(Text).sentiment.polarity).values[0])\n",
    "#getting sentiment values from TextBlob"
   ]
  },
  {
   "cell_type": "code",
   "execution_count": 5,
   "metadata": {},
   "outputs": [],
   "source": [
    "df['subjectivity'] = df['text'].apply(lambda Text:pd.Series(TextBlob(Text).sentiment.subjectivity).values[0])\n",
    "#Getting sentiment values from TextBlob"
   ]
  },
  {
   "cell_type": "code",
   "execution_count": 6,
   "metadata": {},
   "outputs": [
    {
     "data": {
      "text/html": [
       "<table>\n",
       "<thead>\n",
       "<tr><th>#                                 </th><th>polarity           </th><th>subjectivity      </th></tr>\n",
       "</thead>\n",
       "<tbody>\n",
       "<tr><td>&lt;i style=&#x27;opacity: 0.6&#x27;&gt;0&lt;/i&gt;     </td><td>0.22018465452675978</td><td>0.5297412928714867</td></tr>\n",
       "<tr><td>&lt;i style=&#x27;opacity: 0.6&#x27;&gt;1&lt;/i&gt;     </td><td>0.1428557736412659 </td><td>0.5075342715981854</td></tr>\n",
       "<tr><td>&lt;i style=&#x27;opacity: 0.6&#x27;&gt;2&lt;/i&gt;     </td><td>0.2804095386796256 </td><td>0.5724454691881081</td></tr>\n",
       "<tr><td>&lt;i style=&#x27;opacity: 0.6&#x27;&gt;3&lt;/i&gt;     </td><td>0.23261230632175287</td><td>0.5416237446819512</td></tr>\n",
       "<tr><td>&lt;i style=&#x27;opacity: 0.6&#x27;&gt;4&lt;/i&gt;     </td><td>0.27488195409325383</td><td>0.5726932152664499</td></tr>\n",
       "<tr><td>...                               </td><td>...                </td><td>...               </td></tr>\n",
       "<tr><td>&lt;i style=&#x27;opacity: 0.6&#x27;&gt;63,956&lt;/i&gt;</td><td>0.13247428553830995</td><td>0.5843493735262028</td></tr>\n",
       "<tr><td>&lt;i style=&#x27;opacity: 0.6&#x27;&gt;63,957&lt;/i&gt;</td><td>0.12684422921711058</td><td>0.5180605740775232</td></tr>\n",
       "<tr><td>&lt;i style=&#x27;opacity: 0.6&#x27;&gt;63,958&lt;/i&gt;</td><td>0.2853763313525951 </td><td>0.5561469125305006</td></tr>\n",
       "<tr><td>&lt;i style=&#x27;opacity: 0.6&#x27;&gt;63,959&lt;/i&gt;</td><td>0.15423861195698543</td><td>0.5642063296604544</td></tr>\n",
       "<tr><td>&lt;i style=&#x27;opacity: 0.6&#x27;&gt;63,960&lt;/i&gt;</td><td>0.1203242725904364 </td><td>0.5792643065746507</td></tr>\n",
       "</tbody>\n",
       "</table>"
      ],
      "text/plain": [
       "#       polarity             subjectivity\n",
       "0       0.22018465452675978  0.5297412928714867\n",
       "1       0.1428557736412659   0.5075342715981854\n",
       "2       0.2804095386796256   0.5724454691881081\n",
       "3       0.23261230632175287  0.5416237446819512\n",
       "4       0.27488195409325383  0.5726932152664499\n",
       "...     ...                  ...\n",
       "63,956  0.13247428553830995  0.5843493735262028\n",
       "63,957  0.12684422921711058  0.5180605740775232\n",
       "63,958  0.2853763313525951   0.5561469125305006\n",
       "63,959  0.15423861195698543  0.5642063296604544\n",
       "63,960  0.1203242725904364   0.5792643065746507"
      ]
     },
     "execution_count": 6,
     "metadata": {},
     "output_type": "execute_result"
    }
   ],
   "source": [
    "df.drop(columns=['text'], inplace=True)"
   ]
  },
  {
   "cell_type": "code",
   "execution_count": null,
   "metadata": {},
   "outputs": [],
   "source": [
    "#df.export_csv('./sentiment_scores.csv', progress=.10, chunk_size=10000)\n",
    "#Trying to export the vaex data.  "
   ]
  },
  {
   "cell_type": "code",
   "execution_count": 49,
   "metadata": {},
   "outputs": [],
   "source": [
    "scores = pd.read_csv('sentiment_scores.csv')\n",
    "#reading back in as pandas. "
   ]
  },
  {
   "cell_type": "code",
   "execution_count": 3,
   "metadata": {},
   "outputs": [
    {
     "data": {
      "text/html": [
       "<div>\n",
       "<style scoped>\n",
       "    .dataframe tbody tr th:only-of-type {\n",
       "        vertical-align: middle;\n",
       "    }\n",
       "\n",
       "    .dataframe tbody tr th {\n",
       "        vertical-align: top;\n",
       "    }\n",
       "\n",
       "    .dataframe thead th {\n",
       "        text-align: right;\n",
       "    }\n",
       "</style>\n",
       "<table border=\"1\" class=\"dataframe\">\n",
       "  <thead>\n",
       "    <tr style=\"text-align: right;\">\n",
       "      <th></th>\n",
       "      <th>polarity</th>\n",
       "      <th>subjectivity</th>\n",
       "    </tr>\n",
       "  </thead>\n",
       "  <tbody>\n",
       "    <tr>\n",
       "      <th>0</th>\n",
       "      <td>0.220185</td>\n",
       "      <td>0.529741</td>\n",
       "    </tr>\n",
       "    <tr>\n",
       "      <th>1</th>\n",
       "      <td>0.142856</td>\n",
       "      <td>0.507534</td>\n",
       "    </tr>\n",
       "    <tr>\n",
       "      <th>2</th>\n",
       "      <td>0.280410</td>\n",
       "      <td>0.572445</td>\n",
       "    </tr>\n",
       "    <tr>\n",
       "      <th>3</th>\n",
       "      <td>0.232612</td>\n",
       "      <td>0.541624</td>\n",
       "    </tr>\n",
       "    <tr>\n",
       "      <th>4</th>\n",
       "      <td>0.274882</td>\n",
       "      <td>0.572693</td>\n",
       "    </tr>\n",
       "    <tr>\n",
       "      <th>...</th>\n",
       "      <td>...</td>\n",
       "      <td>...</td>\n",
       "    </tr>\n",
       "    <tr>\n",
       "      <th>49995</th>\n",
       "      <td>0.213653</td>\n",
       "      <td>0.560277</td>\n",
       "    </tr>\n",
       "    <tr>\n",
       "      <th>49996</th>\n",
       "      <td>0.163705</td>\n",
       "      <td>0.527546</td>\n",
       "    </tr>\n",
       "    <tr>\n",
       "      <th>49997</th>\n",
       "      <td>0.256801</td>\n",
       "      <td>0.551771</td>\n",
       "    </tr>\n",
       "    <tr>\n",
       "      <th>49998</th>\n",
       "      <td>0.240501</td>\n",
       "      <td>0.493089</td>\n",
       "    </tr>\n",
       "    <tr>\n",
       "      <th>49999</th>\n",
       "      <td>-0.028335</td>\n",
       "      <td>0.635673</td>\n",
       "    </tr>\n",
       "  </tbody>\n",
       "</table>\n",
       "<p>50000 rows × 2 columns</p>\n",
       "</div>"
      ],
      "text/plain": [
       "       polarity  subjectivity\n",
       "0      0.220185      0.529741\n",
       "1      0.142856      0.507534\n",
       "2      0.280410      0.572445\n",
       "3      0.232612      0.541624\n",
       "4      0.274882      0.572693\n",
       "...         ...           ...\n",
       "49995  0.213653      0.560277\n",
       "49996  0.163705      0.527546\n",
       "49997  0.256801      0.551771\n",
       "49998  0.240501      0.493089\n",
       "49999 -0.028335      0.635673\n",
       "\n",
       "[50000 rows x 2 columns]"
      ]
     },
     "execution_count": 3,
     "metadata": {},
     "output_type": "execute_result"
    }
   ],
   "source": [
    "scores"
   ]
  },
  {
   "cell_type": "code",
   "execution_count": 4,
   "metadata": {},
   "outputs": [],
   "source": [
    "restaurants = pd.read_csv('yelp_restaurants.csv')"
   ]
  },
  {
   "cell_type": "code",
   "execution_count": 5,
   "metadata": {},
   "outputs": [
    {
     "data": {
      "text/html": [
       "<div>\n",
       "<style scoped>\n",
       "    .dataframe tbody tr th:only-of-type {\n",
       "        vertical-align: middle;\n",
       "    }\n",
       "\n",
       "    .dataframe tbody tr th {\n",
       "        vertical-align: top;\n",
       "    }\n",
       "\n",
       "    .dataframe thead th {\n",
       "        text-align: right;\n",
       "    }\n",
       "</style>\n",
       "<table border=\"1\" class=\"dataframe\">\n",
       "  <thead>\n",
       "    <tr style=\"text-align: right;\">\n",
       "      <th></th>\n",
       "      <th>business_id</th>\n",
       "      <th>name</th>\n",
       "      <th>city</th>\n",
       "      <th>state</th>\n",
       "      <th>stars</th>\n",
       "      <th>review_count</th>\n",
       "      <th>is_open</th>\n",
       "      <th>categories</th>\n",
       "      <th>total_stars</th>\n",
       "      <th>total_useful</th>\n",
       "      <th>total_funny</th>\n",
       "      <th>total_cool</th>\n",
       "    </tr>\n",
       "  </thead>\n",
       "  <tbody>\n",
       "    <tr>\n",
       "      <th>0</th>\n",
       "      <td>--1UhMGODdWsrMastO9DZw</td>\n",
       "      <td>The Spicy Amigos</td>\n",
       "      <td>Calgary</td>\n",
       "      <td>AB</td>\n",
       "      <td>4.0</td>\n",
       "      <td>27</td>\n",
       "      <td>1</td>\n",
       "      <td>Restaurants, Mexican</td>\n",
       "      <td>118</td>\n",
       "      <td>20</td>\n",
       "      <td>1</td>\n",
       "      <td>16</td>\n",
       "    </tr>\n",
       "    <tr>\n",
       "      <th>1</th>\n",
       "      <td>--6MefnULPED_I942VcFNA</td>\n",
       "      <td>John's Chinese BBQ Restaurant</td>\n",
       "      <td>Richmond Hill</td>\n",
       "      <td>ON</td>\n",
       "      <td>3.0</td>\n",
       "      <td>55</td>\n",
       "      <td>1</td>\n",
       "      <td>Chinese, Restaurants</td>\n",
       "      <td>164</td>\n",
       "      <td>95</td>\n",
       "      <td>31</td>\n",
       "      <td>36</td>\n",
       "    </tr>\n",
       "    <tr>\n",
       "      <th>2</th>\n",
       "      <td>--9e1ONYQuAa-CB_Rrw7Tw</td>\n",
       "      <td>Delmonico Steakhouse</td>\n",
       "      <td>Las Vegas</td>\n",
       "      <td>NV</td>\n",
       "      <td>4.0</td>\n",
       "      <td>1759</td>\n",
       "      <td>1</td>\n",
       "      <td>Seafood, Cajun/Creole, Restaurants, Steakhouses</td>\n",
       "      <td>7478</td>\n",
       "      <td>1970</td>\n",
       "      <td>1001</td>\n",
       "      <td>1340</td>\n",
       "    </tr>\n",
       "    <tr>\n",
       "      <th>3</th>\n",
       "      <td>--DaPTJW3-tB1vP-PfdTEg</td>\n",
       "      <td>Sunnyside Grill</td>\n",
       "      <td>Toronto</td>\n",
       "      <td>ON</td>\n",
       "      <td>4.0</td>\n",
       "      <td>51</td>\n",
       "      <td>1</td>\n",
       "      <td>Restaurants, Breakfast &amp; Brunch</td>\n",
       "      <td>192</td>\n",
       "      <td>18</td>\n",
       "      <td>3</td>\n",
       "      <td>10</td>\n",
       "    </tr>\n",
       "    <tr>\n",
       "      <th>4</th>\n",
       "      <td>--FBCX-N37CMYDfs790Bnw</td>\n",
       "      <td>The Bar At Bermuda &amp; St. Rose</td>\n",
       "      <td>Henderson</td>\n",
       "      <td>NV</td>\n",
       "      <td>4.0</td>\n",
       "      <td>166</td>\n",
       "      <td>1</td>\n",
       "      <td>American (New), Nightlife, Beer, Wine &amp; Spirit...</td>\n",
       "      <td>672</td>\n",
       "      <td>138</td>\n",
       "      <td>63</td>\n",
       "      <td>100</td>\n",
       "    </tr>\n",
       "    <tr>\n",
       "      <th>...</th>\n",
       "      <td>...</td>\n",
       "      <td>...</td>\n",
       "      <td>...</td>\n",
       "      <td>...</td>\n",
       "      <td>...</td>\n",
       "      <td>...</td>\n",
       "      <td>...</td>\n",
       "      <td>...</td>\n",
       "      <td>...</td>\n",
       "      <td>...</td>\n",
       "      <td>...</td>\n",
       "      <td>...</td>\n",
       "    </tr>\n",
       "    <tr>\n",
       "      <th>63956</th>\n",
       "      <td>zzsU528uoRB6qZUGhKDa6w</td>\n",
       "      <td>Joni's Capitol Cafe</td>\n",
       "      <td>Phoenix</td>\n",
       "      <td>AZ</td>\n",
       "      <td>4.0</td>\n",
       "      <td>7</td>\n",
       "      <td>0</td>\n",
       "      <td>Sandwiches, Breakfast &amp; Brunch, Restaurants</td>\n",
       "      <td>28</td>\n",
       "      <td>19</td>\n",
       "      <td>15</td>\n",
       "      <td>15</td>\n",
       "    </tr>\n",
       "    <tr>\n",
       "      <th>63957</th>\n",
       "      <td>zzvlwkcNR1CCqOPXwuvz2A</td>\n",
       "      <td>7 Dim Sum</td>\n",
       "      <td>Toronto</td>\n",
       "      <td>ON</td>\n",
       "      <td>3.5</td>\n",
       "      <td>6</td>\n",
       "      <td>0</td>\n",
       "      <td>Chinese, Asian Fusion, Dim Sum, Restaurants, V...</td>\n",
       "      <td>24</td>\n",
       "      <td>4</td>\n",
       "      <td>0</td>\n",
       "      <td>1</td>\n",
       "    </tr>\n",
       "    <tr>\n",
       "      <th>63958</th>\n",
       "      <td>zzwhN7x37nyjP0ZM8oiHmw</td>\n",
       "      <td>Carmody's Grille</td>\n",
       "      <td>Pittsburgh</td>\n",
       "      <td>PA</td>\n",
       "      <td>4.0</td>\n",
       "      <td>75</td>\n",
       "      <td>1</td>\n",
       "      <td>American (New), Restaurants</td>\n",
       "      <td>325</td>\n",
       "      <td>62</td>\n",
       "      <td>10</td>\n",
       "      <td>31</td>\n",
       "    </tr>\n",
       "    <tr>\n",
       "      <th>63959</th>\n",
       "      <td>zzwicjPC9g246MK2M1ZFBA</td>\n",
       "      <td>Sizzler</td>\n",
       "      <td>Mesa</td>\n",
       "      <td>AZ</td>\n",
       "      <td>3.0</td>\n",
       "      <td>81</td>\n",
       "      <td>1</td>\n",
       "      <td>Buffets, Salad, American (Traditional), Seafoo...</td>\n",
       "      <td>251</td>\n",
       "      <td>129</td>\n",
       "      <td>42</td>\n",
       "      <td>43</td>\n",
       "    </tr>\n",
       "    <tr>\n",
       "      <th>63960</th>\n",
       "      <td>zzzaIBwimxVej4tY6qFOUQ</td>\n",
       "      <td>Guthrie's</td>\n",
       "      <td>Las Vegas</td>\n",
       "      <td>NV</td>\n",
       "      <td>3.5</td>\n",
       "      <td>38</td>\n",
       "      <td>0</td>\n",
       "      <td>Restaurants, Southern</td>\n",
       "      <td>130</td>\n",
       "      <td>57</td>\n",
       "      <td>16</td>\n",
       "      <td>13</td>\n",
       "    </tr>\n",
       "  </tbody>\n",
       "</table>\n",
       "<p>63961 rows × 12 columns</p>\n",
       "</div>"
      ],
      "text/plain": [
       "                  business_id                           name           city  \\\n",
       "0      --1UhMGODdWsrMastO9DZw               The Spicy Amigos        Calgary   \n",
       "1      --6MefnULPED_I942VcFNA  John's Chinese BBQ Restaurant  Richmond Hill   \n",
       "2      --9e1ONYQuAa-CB_Rrw7Tw           Delmonico Steakhouse      Las Vegas   \n",
       "3      --DaPTJW3-tB1vP-PfdTEg                Sunnyside Grill        Toronto   \n",
       "4      --FBCX-N37CMYDfs790Bnw  The Bar At Bermuda & St. Rose      Henderson   \n",
       "...                       ...                            ...            ...   \n",
       "63956  zzsU528uoRB6qZUGhKDa6w            Joni's Capitol Cafe        Phoenix   \n",
       "63957  zzvlwkcNR1CCqOPXwuvz2A                      7 Dim Sum        Toronto   \n",
       "63958  zzwhN7x37nyjP0ZM8oiHmw               Carmody's Grille     Pittsburgh   \n",
       "63959  zzwicjPC9g246MK2M1ZFBA                        Sizzler           Mesa   \n",
       "63960  zzzaIBwimxVej4tY6qFOUQ                      Guthrie's      Las Vegas   \n",
       "\n",
       "      state  stars  review_count  is_open  \\\n",
       "0        AB    4.0            27        1   \n",
       "1        ON    3.0            55        1   \n",
       "2        NV    4.0          1759        1   \n",
       "3        ON    4.0            51        1   \n",
       "4        NV    4.0           166        1   \n",
       "...     ...    ...           ...      ...   \n",
       "63956    AZ    4.0             7        0   \n",
       "63957    ON    3.5             6        0   \n",
       "63958    PA    4.0            75        1   \n",
       "63959    AZ    3.0            81        1   \n",
       "63960    NV    3.5            38        0   \n",
       "\n",
       "                                              categories  total_stars  \\\n",
       "0                                   Restaurants, Mexican          118   \n",
       "1                                   Chinese, Restaurants          164   \n",
       "2        Seafood, Cajun/Creole, Restaurants, Steakhouses         7478   \n",
       "3                        Restaurants, Breakfast & Brunch          192   \n",
       "4      American (New), Nightlife, Beer, Wine & Spirit...          672   \n",
       "...                                                  ...          ...   \n",
       "63956        Sandwiches, Breakfast & Brunch, Restaurants           28   \n",
       "63957  Chinese, Asian Fusion, Dim Sum, Restaurants, V...           24   \n",
       "63958                        American (New), Restaurants          325   \n",
       "63959  Buffets, Salad, American (Traditional), Seafoo...          251   \n",
       "63960                              Restaurants, Southern          130   \n",
       "\n",
       "       total_useful  total_funny  total_cool  \n",
       "0                20            1          16  \n",
       "1                95           31          36  \n",
       "2              1970         1001        1340  \n",
       "3                18            3          10  \n",
       "4               138           63         100  \n",
       "...             ...          ...         ...  \n",
       "63956            19           15          15  \n",
       "63957             4            0           1  \n",
       "63958            62           10          31  \n",
       "63959           129           42          43  \n",
       "63960            57           16          13  \n",
       "\n",
       "[63961 rows x 12 columns]"
      ]
     },
     "execution_count": 5,
     "metadata": {},
     "output_type": "execute_result"
    }
   ],
   "source": [
    "restaurants"
   ]
  },
  {
   "cell_type": "code",
   "execution_count": 6,
   "metadata": {},
   "outputs": [],
   "source": [
    "restaurants.drop(restaurants.index[50000:63961], inplace=True)\n",
    "#Vaex only exported 50,000 rows, so I'm trimming the business data to match.  "
   ]
  },
  {
   "cell_type": "code",
   "execution_count": 7,
   "metadata": {},
   "outputs": [
    {
     "data": {
      "text/html": [
       "<div>\n",
       "<style scoped>\n",
       "    .dataframe tbody tr th:only-of-type {\n",
       "        vertical-align: middle;\n",
       "    }\n",
       "\n",
       "    .dataframe tbody tr th {\n",
       "        vertical-align: top;\n",
       "    }\n",
       "\n",
       "    .dataframe thead th {\n",
       "        text-align: right;\n",
       "    }\n",
       "</style>\n",
       "<table border=\"1\" class=\"dataframe\">\n",
       "  <thead>\n",
       "    <tr style=\"text-align: right;\">\n",
       "      <th></th>\n",
       "      <th>business_id</th>\n",
       "      <th>name</th>\n",
       "      <th>city</th>\n",
       "      <th>state</th>\n",
       "      <th>stars</th>\n",
       "      <th>review_count</th>\n",
       "      <th>is_open</th>\n",
       "      <th>categories</th>\n",
       "      <th>total_stars</th>\n",
       "      <th>total_useful</th>\n",
       "      <th>total_funny</th>\n",
       "      <th>total_cool</th>\n",
       "    </tr>\n",
       "  </thead>\n",
       "  <tbody>\n",
       "    <tr>\n",
       "      <th>0</th>\n",
       "      <td>--1UhMGODdWsrMastO9DZw</td>\n",
       "      <td>The Spicy Amigos</td>\n",
       "      <td>Calgary</td>\n",
       "      <td>AB</td>\n",
       "      <td>4.0</td>\n",
       "      <td>27</td>\n",
       "      <td>1</td>\n",
       "      <td>Restaurants, Mexican</td>\n",
       "      <td>118</td>\n",
       "      <td>20</td>\n",
       "      <td>1</td>\n",
       "      <td>16</td>\n",
       "    </tr>\n",
       "    <tr>\n",
       "      <th>1</th>\n",
       "      <td>--6MefnULPED_I942VcFNA</td>\n",
       "      <td>John's Chinese BBQ Restaurant</td>\n",
       "      <td>Richmond Hill</td>\n",
       "      <td>ON</td>\n",
       "      <td>3.0</td>\n",
       "      <td>55</td>\n",
       "      <td>1</td>\n",
       "      <td>Chinese, Restaurants</td>\n",
       "      <td>164</td>\n",
       "      <td>95</td>\n",
       "      <td>31</td>\n",
       "      <td>36</td>\n",
       "    </tr>\n",
       "  </tbody>\n",
       "</table>\n",
       "</div>"
      ],
      "text/plain": [
       "              business_id                           name           city state  \\\n",
       "0  --1UhMGODdWsrMastO9DZw               The Spicy Amigos        Calgary    AB   \n",
       "1  --6MefnULPED_I942VcFNA  John's Chinese BBQ Restaurant  Richmond Hill    ON   \n",
       "\n",
       "   stars  review_count  is_open            categories  total_stars  \\\n",
       "0    4.0            27        1  Restaurants, Mexican          118   \n",
       "1    3.0            55        1  Chinese, Restaurants          164   \n",
       "\n",
       "   total_useful  total_funny  total_cool  \n",
       "0            20            1          16  \n",
       "1            95           31          36  "
      ]
     },
     "execution_count": 7,
     "metadata": {},
     "output_type": "execute_result"
    }
   ],
   "source": [
    "restaurants.head(2)"
   ]
  },
  {
   "cell_type": "code",
   "execution_count": 8,
   "metadata": {},
   "outputs": [
    {
     "data": {
      "text/html": [
       "<div>\n",
       "<style scoped>\n",
       "    .dataframe tbody tr th:only-of-type {\n",
       "        vertical-align: middle;\n",
       "    }\n",
       "\n",
       "    .dataframe tbody tr th {\n",
       "        vertical-align: top;\n",
       "    }\n",
       "\n",
       "    .dataframe thead th {\n",
       "        text-align: right;\n",
       "    }\n",
       "</style>\n",
       "<table border=\"1\" class=\"dataframe\">\n",
       "  <thead>\n",
       "    <tr style=\"text-align: right;\">\n",
       "      <th></th>\n",
       "      <th>polarity</th>\n",
       "      <th>subjectivity</th>\n",
       "    </tr>\n",
       "  </thead>\n",
       "  <tbody>\n",
       "    <tr>\n",
       "      <th>0</th>\n",
       "      <td>0.220185</td>\n",
       "      <td>0.529741</td>\n",
       "    </tr>\n",
       "    <tr>\n",
       "      <th>1</th>\n",
       "      <td>0.142856</td>\n",
       "      <td>0.507534</td>\n",
       "    </tr>\n",
       "  </tbody>\n",
       "</table>\n",
       "</div>"
      ],
      "text/plain": [
       "   polarity  subjectivity\n",
       "0  0.220185      0.529741\n",
       "1  0.142856      0.507534"
      ]
     },
     "execution_count": 8,
     "metadata": {},
     "output_type": "execute_result"
    }
   ],
   "source": [
    "scores.head(2)"
   ]
  },
  {
   "cell_type": "code",
   "execution_count": 9,
   "metadata": {},
   "outputs": [],
   "source": [
    "df = restaurants.merge(scores, left_index=True, right_index=True)\n",
    "#merging my dataframes.  "
   ]
  },
  {
   "cell_type": "code",
   "execution_count": 6,
   "metadata": {},
   "outputs": [],
   "source": [
    "df_wtext = pd.read_csv('./final_yelp_data.csv')"
   ]
  },
  {
   "cell_type": "code",
   "execution_count": 77,
   "metadata": {},
   "outputs": [
    {
     "data": {
      "text/html": [
       "<div>\n",
       "<style scoped>\n",
       "    .dataframe tbody tr th:only-of-type {\n",
       "        vertical-align: middle;\n",
       "    }\n",
       "\n",
       "    .dataframe tbody tr th {\n",
       "        vertical-align: top;\n",
       "    }\n",
       "\n",
       "    .dataframe thead th {\n",
       "        text-align: right;\n",
       "    }\n",
       "</style>\n",
       "<table border=\"1\" class=\"dataframe\">\n",
       "  <thead>\n",
       "    <tr style=\"text-align: right;\">\n",
       "      <th></th>\n",
       "      <th>business_id</th>\n",
       "      <th>name</th>\n",
       "      <th>city</th>\n",
       "      <th>state</th>\n",
       "      <th>stars</th>\n",
       "      <th>review_count</th>\n",
       "      <th>is_open</th>\n",
       "      <th>categories</th>\n",
       "      <th>total_stars</th>\n",
       "      <th>total_useful</th>\n",
       "      <th>total_funny</th>\n",
       "      <th>total_cool</th>\n",
       "      <th>polarity</th>\n",
       "      <th>subjectivity</th>\n",
       "      <th>text</th>\n",
       "    </tr>\n",
       "  </thead>\n",
       "  <tbody>\n",
       "    <tr>\n",
       "      <th>49995</th>\n",
       "      <td>lyIHmlIK7PKwQeGyR8svJQ</td>\n",
       "      <td>Cafe Crepe</td>\n",
       "      <td>Toronto</td>\n",
       "      <td>ON</td>\n",
       "      <td>3.5</td>\n",
       "      <td>338</td>\n",
       "      <td>1</td>\n",
       "      <td>Food, Coffee &amp; Tea, Restaurants, Creperies, Br...</td>\n",
       "      <td>1280</td>\n",
       "      <td>287</td>\n",
       "      <td>106</td>\n",
       "      <td>188</td>\n",
       "      <td>0.213653</td>\n",
       "      <td>0.560277</td>\n",
       "      <td>Cafe Crepe is almost always crowded but I'd sa...</td>\n",
       "    </tr>\n",
       "    <tr>\n",
       "      <th>49996</th>\n",
       "      <td>lyT7-grqNhAvll39V7kzag</td>\n",
       "      <td>Apollo Cafe</td>\n",
       "      <td>Phoenix</td>\n",
       "      <td>AZ</td>\n",
       "      <td>3.0</td>\n",
       "      <td>9</td>\n",
       "      <td>0</td>\n",
       "      <td>Restaurants, Buffets</td>\n",
       "      <td>33</td>\n",
       "      <td>13</td>\n",
       "      <td>7</td>\n",
       "      <td>7</td>\n",
       "      <td>0.163705</td>\n",
       "      <td>0.527546</td>\n",
       "      <td>Used to be much better. A little pricey but if...</td>\n",
       "    </tr>\n",
       "    <tr>\n",
       "      <th>49997</th>\n",
       "      <td>lyTIuSgPdyRMx3l7xPzl3A</td>\n",
       "      <td>El Entronke Mexican Food</td>\n",
       "      <td>Phoenix</td>\n",
       "      <td>AZ</td>\n",
       "      <td>4.0</td>\n",
       "      <td>14</td>\n",
       "      <td>0</td>\n",
       "      <td>Restaurants, Mexican</td>\n",
       "      <td>58</td>\n",
       "      <td>17</td>\n",
       "      <td>10</td>\n",
       "      <td>7</td>\n",
       "      <td>0.256801</td>\n",
       "      <td>0.551771</td>\n",
       "      <td>:) good food :) good service and better then p...</td>\n",
       "    </tr>\n",
       "    <tr>\n",
       "      <th>49998</th>\n",
       "      <td>lyX-_zyEHDYNodWL-ZXlnQ</td>\n",
       "      <td>The Greek Freak</td>\n",
       "      <td>Ajax</td>\n",
       "      <td>ON</td>\n",
       "      <td>4.0</td>\n",
       "      <td>41</td>\n",
       "      <td>1</td>\n",
       "      <td>Restaurants, Greek</td>\n",
       "      <td>169</td>\n",
       "      <td>8</td>\n",
       "      <td>2</td>\n",
       "      <td>5</td>\n",
       "      <td>0.240501</td>\n",
       "      <td>0.493089</td>\n",
       "      <td>I've been here a handfull of times and each ti...</td>\n",
       "    </tr>\n",
       "    <tr>\n",
       "      <th>49999</th>\n",
       "      <td>lyg_0ArnX4fXed1cqCDAWA</td>\n",
       "      <td>Papa John's Pizza</td>\n",
       "      <td>Concord</td>\n",
       "      <td>NC</td>\n",
       "      <td>3.0</td>\n",
       "      <td>6</td>\n",
       "      <td>1</td>\n",
       "      <td>Pizza, Restaurants, Italian</td>\n",
       "      <td>18</td>\n",
       "      <td>6</td>\n",
       "      <td>0</td>\n",
       "      <td>1</td>\n",
       "      <td>-0.028335</td>\n",
       "      <td>0.635673</td>\n",
       "      <td>Only had one delivery driver and pizza took WA...</td>\n",
       "    </tr>\n",
       "  </tbody>\n",
       "</table>\n",
       "</div>"
      ],
      "text/plain": [
       "                  business_id                      name     city state  stars  \\\n",
       "49995  lyIHmlIK7PKwQeGyR8svJQ                Cafe Crepe  Toronto    ON    3.5   \n",
       "49996  lyT7-grqNhAvll39V7kzag               Apollo Cafe  Phoenix    AZ    3.0   \n",
       "49997  lyTIuSgPdyRMx3l7xPzl3A  El Entronke Mexican Food  Phoenix    AZ    4.0   \n",
       "49998  lyX-_zyEHDYNodWL-ZXlnQ           The Greek Freak     Ajax    ON    4.0   \n",
       "49999  lyg_0ArnX4fXed1cqCDAWA         Papa John's Pizza  Concord    NC    3.0   \n",
       "\n",
       "       review_count  is_open  \\\n",
       "49995           338        1   \n",
       "49996             9        0   \n",
       "49997            14        0   \n",
       "49998            41        1   \n",
       "49999             6        1   \n",
       "\n",
       "                                              categories  total_stars  \\\n",
       "49995  Food, Coffee & Tea, Restaurants, Creperies, Br...         1280   \n",
       "49996                               Restaurants, Buffets           33   \n",
       "49997                               Restaurants, Mexican           58   \n",
       "49998                                 Restaurants, Greek          169   \n",
       "49999                        Pizza, Restaurants, Italian           18   \n",
       "\n",
       "       total_useful  total_funny  total_cool  polarity  subjectivity  \\\n",
       "49995           287          106         188  0.213653      0.560277   \n",
       "49996            13            7           7  0.163705      0.527546   \n",
       "49997            17           10           7  0.256801      0.551771   \n",
       "49998             8            2           5  0.240501      0.493089   \n",
       "49999             6            0           1 -0.028335      0.635673   \n",
       "\n",
       "                                                    text  \n",
       "49995  Cafe Crepe is almost always crowded but I'd sa...  \n",
       "49996  Used to be much better. A little pricey but if...  \n",
       "49997  :) good food :) good service and better then p...  \n",
       "49998  I've been here a handfull of times and each ti...  \n",
       "49999  Only had one delivery driver and pizza took WA...  "
      ]
     },
     "execution_count": 77,
     "metadata": {},
     "output_type": "execute_result"
    }
   ],
   "source": [
    "df_wtext.tail()"
   ]
  },
  {
   "cell_type": "code",
   "execution_count": 79,
   "metadata": {},
   "outputs": [
    {
     "data": {
      "text/plain": [
       "0.68672"
      ]
     },
     "execution_count": 79,
     "metadata": {},
     "output_type": "execute_result"
    }
   ],
   "source": [
    "y_train.mean()"
   ]
  },
  {
   "cell_type": "code",
   "execution_count": 71,
   "metadata": {},
   "outputs": [],
   "source": [
    "X = df_wtext.drop(columns = ['business_id', 'name', 'city', 'state', 'categories', 'is_open', 'text', 'total_stars'])\n",
    "y = df_wtext['is_open']\n",
    "#setting up X and y columns\n",
    "\n",
    "X_train, X_test, y_train, y_test = train_test_split(X, y, random_state=42)"
   ]
  },
  {
   "cell_type": "code",
   "execution_count": 72,
   "metadata": {},
   "outputs": [
    {
     "data": {
      "text/plain": [
       "LogisticRegression(C=1.0, class_weight=None, dual=False, fit_intercept=True,\n",
       "                   intercept_scaling=1, l1_ratio=None, max_iter=100,\n",
       "                   multi_class='auto', n_jobs=None, penalty='l2',\n",
       "                   random_state=None, solver='lbfgs', tol=0.0001, verbose=0,\n",
       "                   warm_start=False)"
      ]
     },
     "execution_count": 72,
     "metadata": {},
     "output_type": "execute_result"
    }
   ],
   "source": [
    "lr = LogisticRegression()\n",
    "lr.fit(X_train, y_train)\n",
    "#training a no frills, logistic regression model"
   ]
  },
  {
   "cell_type": "code",
   "execution_count": 73,
   "metadata": {},
   "outputs": [
    {
     "data": {
      "text/plain": [
       "0.68536"
      ]
     },
     "execution_count": 73,
     "metadata": {},
     "output_type": "execute_result"
    }
   ],
   "source": [
    "lr.score(X_train, y_train)\n",
    "#score of .685, not awesome."
   ]
  },
  {
   "cell_type": "code",
   "execution_count": 74,
   "metadata": {},
   "outputs": [
    {
     "data": {
      "text/plain": [
       "0.68648"
      ]
     },
     "execution_count": 74,
     "metadata": {},
     "output_type": "execute_result"
    }
   ],
   "source": [
    "lr.score(X_test, y_test)"
   ]
  },
  {
   "cell_type": "code",
   "execution_count": 52,
   "metadata": {},
   "outputs": [],
   "source": [
    "#scaling my data for PCA\n",
    "ss = StandardScaler()\n",
    "X_train_sc = ss.fit_transform(X_train)\n",
    "X_test_sc = ss.fit(X_test)"
   ]
  },
  {
   "cell_type": "code",
   "execution_count": null,
   "metadata": {},
   "outputs": [],
   "source": []
  },
  {
   "cell_type": "markdown",
   "metadata": {},
   "source": [
    "Below, I am going to run PCA with 'full' solver parameters to create interaction columns for all columns.  "
   ]
  },
  {
   "cell_type": "code",
   "execution_count": 53,
   "metadata": {},
   "outputs": [
    {
     "data": {
      "text/plain": [
       "PCA(copy=True, iterated_power='auto', n_components=None, random_state=42,\n",
       "    svd_solver='full', tol=0.0, whiten=False)"
      ]
     },
     "execution_count": 53,
     "metadata": {},
     "output_type": "execute_result"
    }
   ],
   "source": [
    "# Instantiate PCA\n",
    "pca = PCA(svd_solver='full', random_state=42)\n",
    "\n",
    "pca.fit(X_train_sc)"
   ]
  },
  {
   "cell_type": "code",
   "execution_count": 89,
   "metadata": {},
   "outputs": [],
   "source": [
    "Z_train = pca.transform(X_train_sc)"
   ]
  },
  {
   "cell_type": "code",
   "execution_count": 90,
   "metadata": {},
   "outputs": [
    {
     "data": {
      "text/plain": [
       "array([[-1.24893798e+02,  2.84104908e+01,  4.11158500e+00, ...,\n",
       "         3.22117538e+00,  1.32501790e+00, -8.30790852e-01],\n",
       "       [-1.24918792e+02,  2.83949721e+01,  4.05875349e+00, ...,\n",
       "         4.03770658e+00, -9.03432719e-01,  1.30059349e+00],\n",
       "       [-1.24689416e+02,  2.83167280e+01,  4.11171753e+00, ...,\n",
       "         1.95946636e+00,  1.59400562e+00, -9.85111140e-02],\n",
       "       ...,\n",
       "       [-1.24970373e+02,  2.84234015e+01,  4.09912893e+00, ...,\n",
       "         3.27758188e+00,  6.52398512e-01,  1.12978063e+00],\n",
       "       [-1.24904712e+02,  2.83843169e+01,  4.08143929e+00, ...,\n",
       "         3.98964301e+00, -3.78726859e-01,  1.23636290e+00],\n",
       "       [-1.24934891e+02,  2.84257915e+01,  4.10664281e+00, ...,\n",
       "         2.70365520e+00,  1.63913658e-01,  1.61579669e+00]])"
      ]
     },
     "execution_count": 90,
     "metadata": {},
     "output_type": "execute_result"
    }
   ],
   "source": [
    "Z_train"
   ]
  },
  {
   "cell_type": "code",
   "execution_count": 91,
   "metadata": {},
   "outputs": [
    {
     "data": {
      "text/html": [
       "<div>\n",
       "<style scoped>\n",
       "    .dataframe tbody tr th:only-of-type {\n",
       "        vertical-align: middle;\n",
       "    }\n",
       "\n",
       "    .dataframe tbody tr th {\n",
       "        vertical-align: top;\n",
       "    }\n",
       "\n",
       "    .dataframe thead th {\n",
       "        text-align: right;\n",
       "    }\n",
       "</style>\n",
       "<table border=\"1\" class=\"dataframe\">\n",
       "  <thead>\n",
       "    <tr style=\"text-align: right;\">\n",
       "      <th></th>\n",
       "      <th>0</th>\n",
       "      <th>1</th>\n",
       "      <th>2</th>\n",
       "      <th>3</th>\n",
       "      <th>4</th>\n",
       "      <th>5</th>\n",
       "      <th>6</th>\n",
       "    </tr>\n",
       "  </thead>\n",
       "  <tbody>\n",
       "    <tr>\n",
       "      <th>count</th>\n",
       "      <td>37500.000000</td>\n",
       "      <td>37500.000000</td>\n",
       "      <td>37500.000000</td>\n",
       "      <td>37500.000000</td>\n",
       "      <td>37500.000000</td>\n",
       "      <td>37500.000000</td>\n",
       "      <td>37500.000000</td>\n",
       "    </tr>\n",
       "    <tr>\n",
       "      <th>mean</th>\n",
       "      <td>-124.422389</td>\n",
       "      <td>28.256668</td>\n",
       "      <td>4.085330</td>\n",
       "      <td>-5.928933</td>\n",
       "      <td>3.411604</td>\n",
       "      <td>0.034738</td>\n",
       "      <td>0.514297</td>\n",
       "    </tr>\n",
       "    <tr>\n",
       "      <th>std</th>\n",
       "      <td>1.786479</td>\n",
       "      <td>0.727015</td>\n",
       "      <td>0.276756</td>\n",
       "      <td>0.451409</td>\n",
       "      <td>1.071632</td>\n",
       "      <td>0.987746</td>\n",
       "      <td>0.935801</td>\n",
       "    </tr>\n",
       "    <tr>\n",
       "      <th>min</th>\n",
       "      <td>-124.981221</td>\n",
       "      <td>10.131284</td>\n",
       "      <td>-16.572491</td>\n",
       "      <td>-39.955554</td>\n",
       "      <td>0.886438</td>\n",
       "      <td>-5.337906</td>\n",
       "      <td>-10.435557</td>\n",
       "    </tr>\n",
       "    <tr>\n",
       "      <th>25%</th>\n",
       "      <td>-124.937763</td>\n",
       "      <td>28.273730</td>\n",
       "      <td>4.053827</td>\n",
       "      <td>-5.893672</td>\n",
       "      <td>2.662798</td>\n",
       "      <td>-0.537641</td>\n",
       "      <td>0.056121</td>\n",
       "    </tr>\n",
       "    <tr>\n",
       "      <th>50%</th>\n",
       "      <td>-124.834486</td>\n",
       "      <td>28.382960</td>\n",
       "      <td>4.087710</td>\n",
       "      <td>-5.843067</td>\n",
       "      <td>3.322794</td>\n",
       "      <td>0.102967</td>\n",
       "      <td>0.512344</td>\n",
       "    </tr>\n",
       "    <tr>\n",
       "      <th>75%</th>\n",
       "      <td>-124.500935</td>\n",
       "      <td>28.417046</td>\n",
       "      <td>4.106254</td>\n",
       "      <td>-5.829050</td>\n",
       "      <td>4.004835</td>\n",
       "      <td>0.657822</td>\n",
       "      <td>0.989831</td>\n",
       "    </tr>\n",
       "    <tr>\n",
       "      <th>max</th>\n",
       "      <td>26.726976</td>\n",
       "      <td>134.289572</td>\n",
       "      <td>23.076598</td>\n",
       "      <td>-0.494101</td>\n",
       "      <td>6.917672</td>\n",
       "      <td>10.689062</td>\n",
       "      <td>13.090872</td>\n",
       "    </tr>\n",
       "  </tbody>\n",
       "</table>\n",
       "</div>"
      ],
      "text/plain": [
       "                  0             1             2             3             4  \\\n",
       "count  37500.000000  37500.000000  37500.000000  37500.000000  37500.000000   \n",
       "mean    -124.422389     28.256668      4.085330     -5.928933      3.411604   \n",
       "std        1.786479      0.727015      0.276756      0.451409      1.071632   \n",
       "min     -124.981221     10.131284    -16.572491    -39.955554      0.886438   \n",
       "25%     -124.937763     28.273730      4.053827     -5.893672      2.662798   \n",
       "50%     -124.834486     28.382960      4.087710     -5.843067      3.322794   \n",
       "75%     -124.500935     28.417046      4.106254     -5.829050      4.004835   \n",
       "max       26.726976    134.289572     23.076598     -0.494101      6.917672   \n",
       "\n",
       "                  5             6  \n",
       "count  37500.000000  37500.000000  \n",
       "mean       0.034738      0.514297  \n",
       "std        0.987746      0.935801  \n",
       "min       -5.337906    -10.435557  \n",
       "25%       -0.537641      0.056121  \n",
       "50%        0.102967      0.512344  \n",
       "75%        0.657822      0.989831  \n",
       "max       10.689062     13.090872  "
      ]
     },
     "execution_count": 91,
     "metadata": {},
     "output_type": "execute_result"
    }
   ],
   "source": [
    "pd.DataFrame(Z_train).describe()\n"
   ]
  },
  {
   "cell_type": "code",
   "execution_count": 92,
   "metadata": {},
   "outputs": [],
   "source": [
    "Z_test = pca.transform(X_test)\n"
   ]
  },
  {
   "cell_type": "code",
   "execution_count": 93,
   "metadata": {},
   "outputs": [
    {
     "name": "stdout",
     "output_type": "stream",
     "text": [
      "Explained variance (first 20 components): [0.871 0.11  0.013 0.006 0.    0.    0.   ]\n",
      "\n",
      "Cumulative explained variance (first 20 components): [0.871 0.981 0.994 1.    1.    1.    1.   ]\n"
     ]
    }
   ],
   "source": [
    "var_exp = pca.explained_variance_ratio_\n",
    "print(f'Explained variance (first 20 components): {np.round(var_exp[:20],3)}')\n",
    "\n",
    "print('')\n",
    "\n",
    "# Generate the cumulative explained variance.\n",
    "cum_var_exp = np.cumsum(var_exp)\n",
    "print(f'Cumulative explained variance (first 20 components): {np.round(cum_var_exp[:20],3)}')\n",
    "#I don't have 20 components in the model, but just for good measure.  "
   ]
  },
  {
   "cell_type": "code",
   "execution_count": 94,
   "metadata": {},
   "outputs": [
    {
     "data": {
      "image/png": "[encoded data removed]",
      "text/plain": [
       "<Figure size 864x576 with 1 Axes>"
      ]
     },
     "metadata": {
      "needs_background": "light"
     },
     "output_type": "display_data"
    }
   ],
   "source": [
    "\n",
    "# Plot the variance explained (and cumulative variance explained).\n",
    "\n",
    "# Set figure size.\n",
    "plt.figure(figsize=(12,8))\n",
    "\n",
    "# Plot the explained variance.\n",
    "plt.plot(range(len(var_exp)), var_exp, lw=3, label = 'Variance Explained')\n",
    "\n",
    "# Plot the cumulative explained variance.\n",
    "plt.plot(range(len(var_exp)), cum_var_exp, lw=3, color = 'orange', label = 'Cumulative Variance Explained')\n",
    "\n",
    "# Add horizontal lines at y=0 and y=1.\n",
    "plt.axhline(y=0, linewidth=1, color='grey', ls='dashed')\n",
    "plt.axhline(y=1, linewidth=1, color='grey', ls='dashed')\n",
    "\n",
    "# Set the limits of the axes.\n",
    "plt.xlim([-1,10])\n",
    "plt.ylim([-0.01,1.01])\n",
    "\n",
    "# Label the axes.\n",
    "plt.ylabel('Variance Explained', fontsize=20)\n",
    "plt.xlabel('Principal Component', fontsize=20)\n",
    "\n",
    "# Make the tick labels bigger\n",
    "plt.xticks(range(0, 10), range(1, 10), fontsize=12)\n",
    "plt.yticks(fontsize=12)\n",
    "    \n",
    "# Add title and legend.\n",
    "plt.title('Component vs. Variance Explained', fontsize=24)\n",
    "plt.legend(fontsize=11);\n",
    "#Plotting explained variance"
   ]
  },
  {
   "cell_type": "code",
   "execution_count": 97,
   "metadata": {},
   "outputs": [
    {
     "data": {
      "text/plain": [
       "PCA(copy=True, iterated_power='auto', n_components=7, random_state=42,\n",
       "    svd_solver='full', tol=0.0, whiten=False)"
      ]
     },
     "execution_count": 97,
     "metadata": {},
     "output_type": "execute_result"
    }
   ],
   "source": [
    "pca = PCA(n_components = 7, svd_solver='full', random_state = 42)\n",
    "\n",
    "# Fit PCA to training data.\n",
    "pca.fit(X_train_sc)\n",
    "#Fitting model with 7 components"
   ]
  },
  {
   "cell_type": "code",
   "execution_count": 98,
   "metadata": {},
   "outputs": [
    {
     "name": "stdout",
     "output_type": "stream",
     "text": [
      "Training Score: 0.6854\n",
      "Testing Score: 0.6865\n"
     ]
    }
   ],
   "source": [
    "lr = LogisticRegression()\n",
    "\n",
    "# Transform Z_train and Z_test.\n",
    "Z_train = pca.transform(X_train)\n",
    "Z_test = pca.transform(X_test)\n",
    "\n",
    "# Fit on Z_train.\n",
    "lr.fit(Z_train, y_train)\n",
    "\n",
    "# Score on training and testing sets.\n",
    "print(f'Training Score: {round(lr.score(Z_train, y_train),4)}')\n",
    "print(f'Testing Score: {round(lr.score(Z_test, y_test),4)}')\n",
    "#No improvement to score.  "
   ]
  },
  {
   "cell_type": "code",
   "execution_count": 70,
   "metadata": {},
   "outputs": [
    {
     "data": {
      "text/plain": [
       "0.68708"
      ]
     },
     "execution_count": 70,
     "metadata": {},
     "output_type": "execute_result"
    }
   ],
   "source": [
    "df_wtext['is_open'].mean()"
   ]
  },
  {
   "cell_type": "markdown",
   "metadata": {},
   "source": [
    "Now I will use tfidf to use natural language processing on my model."
   ]
  },
  {
   "cell_type": "code",
   "execution_count": 28,
   "metadata": {},
   "outputs": [],
   "source": [
    "reviews = pd.read_csv('./agg_reviews.csv')"
   ]
  },
  {
   "cell_type": "code",
   "execution_count": 29,
   "metadata": {},
   "outputs": [
    {
     "data": {
      "text/plain": [
       "(63961, 2)"
      ]
     },
     "execution_count": 29,
     "metadata": {},
     "output_type": "execute_result"
    }
   ],
   "source": [
    "reviews.shape"
   ]
  },
  {
   "cell_type": "code",
   "execution_count": 30,
   "metadata": {},
   "outputs": [],
   "source": [
    "reviews.drop(reviews.index[50000:63961], inplace=True)"
   ]
  },
  {
   "cell_type": "code",
   "execution_count": 31,
   "metadata": {},
   "outputs": [],
   "source": [
    "df_wtext = df.merge(reviews, left_on=['business_id'], right_on=['business_id'])"
   ]
  },
  {
   "cell_type": "code",
   "execution_count": 33,
   "metadata": {},
   "outputs": [
    {
     "data": {
      "text/html": [
       "<div>\n",
       "<style scoped>\n",
       "    .dataframe tbody tr th:only-of-type {\n",
       "        vertical-align: middle;\n",
       "    }\n",
       "\n",
       "    .dataframe tbody tr th {\n",
       "        vertical-align: top;\n",
       "    }\n",
       "\n",
       "    .dataframe thead th {\n",
       "        text-align: right;\n",
       "    }\n",
       "</style>\n",
       "<table border=\"1\" class=\"dataframe\">\n",
       "  <thead>\n",
       "    <tr style=\"text-align: right;\">\n",
       "      <th></th>\n",
       "      <th>business_id</th>\n",
       "      <th>name</th>\n",
       "      <th>city</th>\n",
       "      <th>state</th>\n",
       "      <th>stars</th>\n",
       "      <th>review_count</th>\n",
       "      <th>is_open</th>\n",
       "      <th>categories</th>\n",
       "      <th>total_stars</th>\n",
       "      <th>total_useful</th>\n",
       "      <th>total_funny</th>\n",
       "      <th>total_cool</th>\n",
       "      <th>polarity</th>\n",
       "      <th>subjectivity</th>\n",
       "      <th>text</th>\n",
       "    </tr>\n",
       "  </thead>\n",
       "  <tbody>\n",
       "    <tr>\n",
       "      <th>0</th>\n",
       "      <td>--1UhMGODdWsrMastO9DZw</td>\n",
       "      <td>The Spicy Amigos</td>\n",
       "      <td>Calgary</td>\n",
       "      <td>AB</td>\n",
       "      <td>4.0</td>\n",
       "      <td>27</td>\n",
       "      <td>1</td>\n",
       "      <td>Restaurants, Mexican</td>\n",
       "      <td>118</td>\n",
       "      <td>20</td>\n",
       "      <td>1</td>\n",
       "      <td>16</td>\n",
       "      <td>0.220185</td>\n",
       "      <td>0.529741</td>\n",
       "      <td>I just love this little Mexican cafeteria-styl...</td>\n",
       "    </tr>\n",
       "    <tr>\n",
       "      <th>1</th>\n",
       "      <td>--6MefnULPED_I942VcFNA</td>\n",
       "      <td>John's Chinese BBQ Restaurant</td>\n",
       "      <td>Richmond Hill</td>\n",
       "      <td>ON</td>\n",
       "      <td>3.0</td>\n",
       "      <td>55</td>\n",
       "      <td>1</td>\n",
       "      <td>Chinese, Restaurants</td>\n",
       "      <td>164</td>\n",
       "      <td>95</td>\n",
       "      <td>31</td>\n",
       "      <td>36</td>\n",
       "      <td>0.142856</td>\n",
       "      <td>0.507534</td>\n",
       "      <td>Great selection of authentic Chinese dishes. T...</td>\n",
       "    </tr>\n",
       "  </tbody>\n",
       "</table>\n",
       "</div>"
      ],
      "text/plain": [
       "              business_id                           name           city state  \\\n",
       "0  --1UhMGODdWsrMastO9DZw               The Spicy Amigos        Calgary    AB   \n",
       "1  --6MefnULPED_I942VcFNA  John's Chinese BBQ Restaurant  Richmond Hill    ON   \n",
       "\n",
       "   stars  review_count  is_open            categories  total_stars  \\\n",
       "0    4.0            27        1  Restaurants, Mexican          118   \n",
       "1    3.0            55        1  Chinese, Restaurants          164   \n",
       "\n",
       "   total_useful  total_funny  total_cool  polarity  subjectivity  \\\n",
       "0            20            1          16  0.220185      0.529741   \n",
       "1            95           31          36  0.142856      0.507534   \n",
       "\n",
       "                                                text  \n",
       "0  I just love this little Mexican cafeteria-styl...  \n",
       "1  Great selection of authentic Chinese dishes. T...  "
      ]
     },
     "execution_count": 33,
     "metadata": {},
     "output_type": "execute_result"
    }
   ],
   "source": [
    "df_wtext.head(2)"
   ]
  },
  {
   "cell_type": "code",
   "execution_count": 34,
   "metadata": {},
   "outputs": [],
   "source": [
    "#saving \n",
    "df_wtext.to_csv('./final_yelp_data.csv', index=False)"
   ]
  },
  {
   "cell_type": "code",
   "execution_count": 32,
   "metadata": {},
   "outputs": [],
   "source": [
    "df_wtext = pd.read_csv('./final_yelp_data.csv')"
   ]
  },
  {
   "cell_type": "code",
   "execution_count": 3,
   "metadata": {},
   "outputs": [],
   "source": [
    "X = df_wtext['text']\n",
    "y = df_wtext['is_open']"
   ]
  },
  {
   "cell_type": "code",
   "execution_count": 4,
   "metadata": {},
   "outputs": [],
   "source": [
    "X_train, X_test, y_train, y_test = train_test_split(X, y, random_state=42)"
   ]
  },
  {
   "cell_type": "code",
   "execution_count": 5,
   "metadata": {},
   "outputs": [],
   "source": [
    "tvec = TfidfVectorizer()\n",
    "tvec_pipe = Pipeline([\n",
    "    ('tvec', TfidfVectorizer()),\n",
    "    ('lr', LogisticRegression())\n",
    "])\n",
    "params = {\n",
    "    'tvec__max_features': [40], \n",
    "    'tvec__stop_words': [None],\n",
    "    'tvec__ngram_range': [(1, 1)], \n",
    "    'tvec__min_df': [4], \n",
    "    'tvec__max_df': [.80], \n",
    "    'tvec__tokenizer': [None], \n",
    "}\n",
    "grid = GridSearchCV(tvec_pipe,\n",
    "                   params, n_jobs=6, \n",
    "                   cv=5)"
   ]
  },
  {
   "cell_type": "code",
   "execution_count": 6,
   "metadata": {},
   "outputs": [
    {
     "name": "stdout",
     "output_type": "stream",
     "text": [
      "Wall time: 21min 25s\n"
     ]
    },
    {
     "data": {
      "text/plain": [
       "GridSearchCV(cv=5, error_score=nan,\n",
       "             estimator=Pipeline(memory=None,\n",
       "                                steps=[('tvec',\n",
       "                                        TfidfVectorizer(analyzer='word',\n",
       "                                                        binary=False,\n",
       "                                                        decode_error='strict',\n",
       "                                                        dtype=<class 'numpy.float64'>,\n",
       "                                                        encoding='utf-8',\n",
       "                                                        input='content',\n",
       "                                                        lowercase=True,\n",
       "                                                        max_df=1.0,\n",
       "                                                        max_features=None,\n",
       "                                                        min_df=1,\n",
       "                                                        ngram_range=(1, 1),\n",
       "                                                        norm='l2',\n",
       "                                                        preprocessor=None,\n",
       "                                                        smooth_idf=True,\n",
       "                                                        stop_words=None,\n",
       "                                                        strip_acce...\n",
       "                                                           random_state=None,\n",
       "                                                           solver='lbfgs',\n",
       "                                                           tol=0.0001,\n",
       "                                                           verbose=0,\n",
       "                                                           warm_start=False))],\n",
       "                                verbose=False),\n",
       "             iid='deprecated', n_jobs=6,\n",
       "             param_grid={'tvec__max_df': [0.8], 'tvec__max_features': [40],\n",
       "                         'tvec__min_df': [4], 'tvec__ngram_range': [(1, 1)],\n",
       "                         'tvec__stop_words': [None],\n",
       "                         'tvec__tokenizer': [None]},\n",
       "             pre_dispatch='2*n_jobs', refit=True, return_train_score=False,\n",
       "             scoring=None, verbose=0)"
      ]
     },
     "execution_count": 6,
     "metadata": {},
     "output_type": "execute_result"
    }
   ],
   "source": [
    "%%time\n",
    "grid.fit(X_train, y_train)"
   ]
  },
  {
   "cell_type": "code",
   "execution_count": 8,
   "metadata": {},
   "outputs": [],
   "source": [
    "scores = []"
   ]
  },
  {
   "cell_type": "code",
   "execution_count": 9,
   "metadata": {},
   "outputs": [],
   "source": [
    "scores.append(grid.best_params_)\n",
    "scores.append(grid.best_score_)\n",
    "#Saving vectorization scores.  Only a 2 point improvement.  "
   ]
  },
  {
   "cell_type": "code",
   "execution_count": 10,
   "metadata": {},
   "outputs": [
    {
     "data": {
      "text/plain": [
       "[{'tvec__max_df': 0.8,\n",
       "  'tvec__max_features': 40,\n",
       "  'tvec__min_df': 4,\n",
       "  'tvec__ngram_range': (1, 1),\n",
       "  'tvec__stop_words': None,\n",
       "  'tvec__tokenizer': None},\n",
       " 0.70384]"
      ]
     },
     "execution_count": 10,
     "metadata": {},
     "output_type": "execute_result"
    }
   ],
   "source": [
    "scores"
   ]
  },
  {
   "cell_type": "code",
   "execution_count": 11,
   "metadata": {},
   "outputs": [
    {
     "name": "stdout",
     "output_type": "stream",
     "text": [
      "There are 40 coefficients.\n",
      "There are 40 features.\n"
     ]
    }
   ],
   "source": [
    "coefficients = grid.best_estimator_.named_steps['lr'].coef_[0]\n",
    "\n",
    "features = grid.best_estimator_.named_steps['tvec'].get_feature_names()\n",
    "\n",
    "print(f'There are {len(coefficients)} coefficients.')\n",
    "print(f'There are {len(features)} features.')"
   ]
  },
  {
   "cell_type": "code",
   "execution_count": 12,
   "metadata": {},
   "outputs": [],
   "source": [
    "coef_df = pd.DataFrame({'features': features, \n",
    "              'coef' : coefficients,\n",
    "              'exp_coef': [np.exp(coef) for coef in coefficients] #exponentiated coefficients\n",
    "             })"
   ]
  },
  {
   "cell_type": "code",
   "execution_count": 13,
   "metadata": {},
   "outputs": [
    {
     "data": {
      "text/html": [
       "<div>\n",
       "<style scoped>\n",
       "    .dataframe tbody tr th:only-of-type {\n",
       "        vertical-align: middle;\n",
       "    }\n",
       "\n",
       "    .dataframe tbody tr th {\n",
       "        vertical-align: top;\n",
       "    }\n",
       "\n",
       "    .dataframe thead th {\n",
       "        text-align: right;\n",
       "    }\n",
       "</style>\n",
       "<table border=\"1\" class=\"dataframe\">\n",
       "  <thead>\n",
       "    <tr style=\"text-align: right;\">\n",
       "      <th></th>\n",
       "      <th>coef</th>\n",
       "      <th>exp_coef</th>\n",
       "    </tr>\n",
       "    <tr>\n",
       "      <th>features</th>\n",
       "      <th></th>\n",
       "      <th></th>\n",
       "    </tr>\n",
       "  </thead>\n",
       "  <tbody>\n",
       "    <tr>\n",
       "      <th>always</th>\n",
       "      <td>2.387817</td>\n",
       "      <td>10.889696</td>\n",
       "    </tr>\n",
       "    <tr>\n",
       "      <th>amazing</th>\n",
       "      <td>2.094623</td>\n",
       "      <td>8.122380</td>\n",
       "    </tr>\n",
       "    <tr>\n",
       "      <th>staff</th>\n",
       "      <td>1.982095</td>\n",
       "      <td>7.257935</td>\n",
       "    </tr>\n",
       "    <tr>\n",
       "      <th>wait</th>\n",
       "      <td>1.890798</td>\n",
       "      <td>6.624655</td>\n",
       "    </tr>\n",
       "    <tr>\n",
       "      <th>come</th>\n",
       "      <td>1.400764</td>\n",
       "      <td>4.058299</td>\n",
       "    </tr>\n",
       "    <tr>\n",
       "      <th>definitely</th>\n",
       "      <td>1.013518</td>\n",
       "      <td>2.755277</td>\n",
       "    </tr>\n",
       "    <tr>\n",
       "      <th>delicious</th>\n",
       "      <td>1.003640</td>\n",
       "      <td>2.728195</td>\n",
       "    </tr>\n",
       "    <tr>\n",
       "      <th>never</th>\n",
       "      <td>0.880750</td>\n",
       "      <td>2.412708</td>\n",
       "    </tr>\n",
       "    <tr>\n",
       "      <th>she</th>\n",
       "      <td>0.867572</td>\n",
       "      <td>2.381122</td>\n",
       "    </tr>\n",
       "    <tr>\n",
       "      <th>again</th>\n",
       "      <td>0.657258</td>\n",
       "      <td>1.929494</td>\n",
       "    </tr>\n",
       "  </tbody>\n",
       "</table>\n",
       "</div>"
      ],
      "text/plain": [
       "                coef   exp_coef\n",
       "features                       \n",
       "always      2.387817  10.889696\n",
       "amazing     2.094623   8.122380\n",
       "staff       1.982095   7.257935\n",
       "wait        1.890798   6.624655\n",
       "come        1.400764   4.058299\n",
       "definitely  1.013518   2.755277\n",
       "delicious   1.003640   2.728195\n",
       "never       0.880750   2.412708\n",
       "she         0.867572   2.381122\n",
       "again       0.657258   1.929494"
      ]
     },
     "execution_count": 13,
     "metadata": {},
     "output_type": "execute_result"
    }
   ],
   "source": [
    "coef_df = coef_df.set_index('features')\n",
    "coef_df = coef_df.sort_values('exp_coef', ascending = False)\n",
    "coef_df.head(10)\n",
    "#Looking at coeffecients.  "
   ]
  },
  {
   "cell_type": "code",
   "execution_count": 48,
   "metadata": {},
   "outputs": [
    {
     "data": {
      "image/png": "[encoded data removed]",
      "text/plain": [
       "<Figure size 864x648 with 1 Axes>"
      ]
     },
     "metadata": {
      "needs_background": "light"
     },
     "output_type": "display_data"
    }
   ],
   "source": [
    "weights = coef_df['exp_coef'].head(20).sort_values()\n",
    "labels = weights.index\n",
    "\n",
    "plt.figure(figsize=(12,9))\n",
    "plt.barh(labels, weights, color = '#ff4500')\n",
    "plt.yticks(fontsize=20)\n",
    "plt.xticks(fontsize=20)\n",
    "plt.xlabel('Exp Coef', fontsize=30)\n",
    "plt.title(f'Top 20 Features', fontsize=42)\n",
    "plt.tight_layout()"
   ]
  },
  {
   "cell_type": "code",
   "execution_count": 12,
   "metadata": {},
   "outputs": [
    {
     "data": {
      "text/plain": [
       "0.68708"
      ]
     },
     "execution_count": 12,
     "metadata": {},
     "output_type": "execute_result"
    }
   ],
   "source": [
    "df_wtext['is_open'].mean()\n",
    "#Checking the baseline.  The model doesn't do as well as the baseline.  "
   ]
  },
  {
   "cell_type": "code",
   "execution_count": 87,
   "metadata": {},
   "outputs": [],
   "source": [
    "import seaborn as sns"
   ]
  },
  {
   "cell_type": "markdown",
   "metadata": {},
   "source": [
    "This heatmap includes dummies for individual average star values.  "
   ]
  },
  {
   "cell_type": "code",
   "execution_count": 8,
   "metadata": {},
   "outputs": [
    {
     "data": {
      "text/plain": [
       "<matplotlib.axes._subplots.AxesSubplot at 0x2361d0c0108>"
      ]
     },
     "execution_count": 8,
     "metadata": {},
     "output_type": "execute_result"
    },
    {
     "data": {
      "image/png": "[encoded data removed]",
      "text/plain": [
       "<Figure size 432x576 with 2 Axes>"
      ]
     },
     "metadata": {
      "needs_background": "light"
     },
     "output_type": "display_data"
    }
   ],
   "source": [
    "plt.figure(figsize=(6, 8))\n",
    "sns.heatmap(df_wtext.corr()[['is_open']].sort_values('is_open'),\n",
    "           annot=True, \n",
    "           cmap='YlGnBu', \n",
    "           vmin=-1, \n",
    "           vmax=1)\n",
    "#visualizing corellation.  "
   ]
  },
  {
   "cell_type": "markdown",
   "metadata": {},
   "source": [
    "The heatmap below does not have dummy columns of individual star averages.  "
   ]
  },
  {
   "cell_type": "code",
   "execution_count": 88,
   "metadata": {},
   "outputs": [
    {
     "data": {
      "text/plain": [
       "<matplotlib.axes._subplots.AxesSubplot at 0x1c86fb74748>"
      ]
     },
     "execution_count": 88,
     "metadata": {},
     "output_type": "execute_result"
    },
    {
     "data": {
      "image/png": "[encoded data removed]",
      "text/plain": [
       "<Figure size 432x576 with 2 Axes>"
      ]
     },
     "metadata": {
      "needs_background": "light"
     },
     "output_type": "display_data"
    }
   ],
   "source": [
    "plt.figure(figsize=(6, 8))\n",
    "sns.heatmap(df_wtext.corr()[['is_open']].sort_values('is_open'),\n",
    "           annot=True, \n",
    "           cmap='YlGnBu', \n",
    "           vmin=-1, \n",
    "           vmax=1)\n",
    "#visualizing corellation.  "
   ]
  },
  {
   "cell_type": "code",
   "execution_count": 42,
   "metadata": {},
   "outputs": [
    {
     "data": {
      "text/plain": [
       "737"
      ]
     },
     "execution_count": 42,
     "metadata": {},
     "output_type": "execute_result"
    }
   ],
   "source": [
    "df_wtext.city.nunique()"
   ]
  },
  {
   "cell_type": "code",
   "execution_count": 45,
   "metadata": {},
   "outputs": [
    {
     "data": {
      "text/plain": [
       "23"
      ]
     },
     "execution_count": 45,
     "metadata": {},
     "output_type": "execute_result"
    }
   ],
   "source": [
    "df_wtext.state.nunique()"
   ]
  },
  {
   "cell_type": "code",
   "execution_count": 46,
   "metadata": {},
   "outputs": [
    {
     "data": {
      "text/html": [
       "<div>\n",
       "<style scoped>\n",
       "    .dataframe tbody tr th:only-of-type {\n",
       "        vertical-align: middle;\n",
       "    }\n",
       "\n",
       "    .dataframe tbody tr th {\n",
       "        vertical-align: top;\n",
       "    }\n",
       "\n",
       "    .dataframe thead th {\n",
       "        text-align: right;\n",
       "    }\n",
       "</style>\n",
       "<table border=\"1\" class=\"dataframe\">\n",
       "  <thead>\n",
       "    <tr style=\"text-align: right;\">\n",
       "      <th></th>\n",
       "      <th>business_id</th>\n",
       "      <th>name</th>\n",
       "      <th>city</th>\n",
       "      <th>state</th>\n",
       "      <th>stars</th>\n",
       "      <th>review_count</th>\n",
       "      <th>is_open</th>\n",
       "      <th>categories</th>\n",
       "      <th>total_stars</th>\n",
       "      <th>total_useful</th>\n",
       "      <th>total_funny</th>\n",
       "      <th>total_cool</th>\n",
       "      <th>polarity</th>\n",
       "      <th>subjectivity</th>\n",
       "      <th>text</th>\n",
       "    </tr>\n",
       "  </thead>\n",
       "  <tbody>\n",
       "    <tr>\n",
       "      <th>0</th>\n",
       "      <td>--1UhMGODdWsrMastO9DZw</td>\n",
       "      <td>The Spicy Amigos</td>\n",
       "      <td>Calgary</td>\n",
       "      <td>AB</td>\n",
       "      <td>4.0</td>\n",
       "      <td>27</td>\n",
       "      <td>1</td>\n",
       "      <td>Restaurants, Mexican</td>\n",
       "      <td>118</td>\n",
       "      <td>20</td>\n",
       "      <td>1</td>\n",
       "      <td>16</td>\n",
       "      <td>0.220185</td>\n",
       "      <td>0.529741</td>\n",
       "      <td>I just love this little Mexican cafeteria-styl...</td>\n",
       "    </tr>\n",
       "    <tr>\n",
       "      <th>1</th>\n",
       "      <td>--6MefnULPED_I942VcFNA</td>\n",
       "      <td>John's Chinese BBQ Restaurant</td>\n",
       "      <td>Richmond Hill</td>\n",
       "      <td>ON</td>\n",
       "      <td>3.0</td>\n",
       "      <td>55</td>\n",
       "      <td>1</td>\n",
       "      <td>Chinese, Restaurants</td>\n",
       "      <td>164</td>\n",
       "      <td>95</td>\n",
       "      <td>31</td>\n",
       "      <td>36</td>\n",
       "      <td>0.142856</td>\n",
       "      <td>0.507534</td>\n",
       "      <td>Great selection of authentic Chinese dishes. T...</td>\n",
       "    </tr>\n",
       "  </tbody>\n",
       "</table>\n",
       "</div>"
      ],
      "text/plain": [
       "              business_id                           name           city state  \\\n",
       "0  --1UhMGODdWsrMastO9DZw               The Spicy Amigos        Calgary    AB   \n",
       "1  --6MefnULPED_I942VcFNA  John's Chinese BBQ Restaurant  Richmond Hill    ON   \n",
       "\n",
       "   stars  review_count  is_open            categories  total_stars  \\\n",
       "0    4.0            27        1  Restaurants, Mexican          118   \n",
       "1    3.0            55        1  Chinese, Restaurants          164   \n",
       "\n",
       "   total_useful  total_funny  total_cool  polarity  subjectivity  \\\n",
       "0            20            1          16  0.220185      0.529741   \n",
       "1            95           31          36  0.142856      0.507534   \n",
       "\n",
       "                                                text  \n",
       "0  I just love this little Mexican cafeteria-styl...  \n",
       "1  Great selection of authentic Chinese dishes. T...  "
      ]
     },
     "execution_count": 46,
     "metadata": {},
     "output_type": "execute_result"
    }
   ],
   "source": [
    "df_wtext.head(2)"
   ]
  },
  {
   "cell_type": "code",
   "execution_count": null,
   "metadata": {},
   "outputs": [],
   "source": []
  },
  {
   "cell_type": "code",
   "execution_count": 40,
   "metadata": {},
   "outputs": [],
   "source": [
    "X = df_wtext.drop(columns = ['business_id', 'name', 'city', 'state', 'categories', 'is_open', 'text', 'total_useful', 'total_funny', 'total_cool'])\n",
    "y = df_wtext['is_open']\n",
    "#setting up X and y columns\n",
    "\n",
    "X_train, X_test, y_train, y_test = train_test_split(X, y, random_state=42)"
   ]
  },
  {
   "cell_type": "code",
   "execution_count": 41,
   "metadata": {},
   "outputs": [],
   "source": [
    "ss = StandardScaler()\n",
    "X_train_sc = ss.fit_transform(X_train)\n",
    "X_test_sc = ss.fit(X_test)\n",
    "pca = PCA(random_state=42)\n",
    "pca.fit(X_train_sc)\n",
    "Z_train = pca.transform(X_train)\n",
    "Z_test = pca.transform(X_test)\n"
   ]
  },
  {
   "cell_type": "code",
   "execution_count": 42,
   "metadata": {},
   "outputs": [
    {
     "name": "stdout",
     "output_type": "stream",
     "text": [
      "Explained variance (first 20 components): [0.458 0.335 0.16  0.045 0.001]\n",
      "\n",
      "Cumulative explained variance (first 20 components): [0.458 0.793 0.953 0.999 1.   ]\n"
     ]
    }
   ],
   "source": [
    "var_exp = pca.explained_variance_ratio_\n",
    "print(f'Explained variance (first 20 components): {np.round(var_exp[:20],3)}')\n",
    "\n",
    "print('')\n",
    "\n",
    "# Generate the cumulative explained variance.\n",
    "cum_var_exp = np.cumsum(var_exp)\n",
    "print(f'Cumulative explained variance (first 20 components): {np.round(cum_var_exp[:20],3)}')\n",
    "#Looking at PCA with dummy columns.  "
   ]
  },
  {
   "cell_type": "code",
   "execution_count": 44,
   "metadata": {},
   "outputs": [
    {
     "name": "stdout",
     "output_type": "stream",
     "text": [
      "Training Score: 0.6867\n",
      "Testing Score: 0.6882\n"
     ]
    }
   ],
   "source": [
    "pca = PCA(n_components = 3, random_state = 42)\n",
    "\n",
    "# Fit PCA to training data.\n",
    "pca.fit(X_train)\n",
    "lr = LogisticRegression()\n",
    "\n",
    "# Transform Z_train and Z_test.\n",
    "Z_train = pca.transform(X_train)\n",
    "Z_test = pca.transform(X_test)\n",
    "\n",
    "# Fit on Z_train.\n",
    "lr.fit(Z_train, y_train)\n",
    "\n",
    "# Score on training and testing sets.\n",
    "print(f'Training Score: {round(lr.score(Z_train, y_train),4)}')\n",
    "print(f'Testing Score: {round(lr.score(Z_test, y_test),4)}')"
   ]
  },
  {
   "cell_type": "code",
   "execution_count": 45,
   "metadata": {},
   "outputs": [],
   "source": [
    "import statsmodels as sm\n"
   ]
  },
  {
   "cell_type": "code",
   "execution_count": null,
   "metadata": {},
   "outputs": [],
   "source": []
  },
  {
   "cell_type": "code",
   "execution_count": 64,
   "metadata": {},
   "outputs": [
    {
     "name": "stdout",
     "output_type": "stream",
     "text": [
      "Optimization terminated successfully.\n",
      "         Current function value: 0.598821\n",
      "         Iterations 7\n"
     ]
    }
   ],
   "source": [
    "#X = sm.add_constant(X)\n",
    "model = sm.discrete.discrete_model.Logit(y, X).fit()\n"
   ]
  },
  {
   "cell_type": "code",
   "execution_count": 48,
   "metadata": {},
   "outputs": [
    {
     "data": {
      "text/html": [
       "<table class=\"simpletable\">\n",
       "<caption>Logit Regression Results</caption>\n",
       "<tr>\n",
       "  <th>Dep. Variable:</th>        <td>is_open</td>     <th>  No. Observations:  </th>  <td> 50000</td> \n",
       "</tr>\n",
       "<tr>\n",
       "  <th>Model:</th>                 <td>Logit</td>      <th>  Df Residuals:      </th>  <td> 49991</td> \n",
       "</tr>\n",
       "<tr>\n",
       "  <th>Method:</th>                 <td>MLE</td>       <th>  Df Model:          </th>  <td>     8</td> \n",
       "</tr>\n",
       "<tr>\n",
       "  <th>Date:</th>            <td>Mon, 08 Jun 2020</td> <th>  Pseudo R-squ.:     </th>  <td>0.03665</td>\n",
       "</tr>\n",
       "<tr>\n",
       "  <th>Time:</th>                <td>10:05:09</td>     <th>  Log-Likelihood:    </th> <td> -29932.</td>\n",
       "</tr>\n",
       "<tr>\n",
       "  <th>converged:</th>             <td>True</td>       <th>  LL-Null:           </th> <td> -31071.</td>\n",
       "</tr>\n",
       "<tr>\n",
       "  <th>Covariance Type:</th>     <td>nonrobust</td>    <th>  LLR p-value:       </th>  <td> 0.000</td> \n",
       "</tr>\n",
       "</table>\n",
       "<table class=\"simpletable\">\n",
       "<tr>\n",
       "        <td></td>          <th>coef</th>     <th>std err</th>      <th>z</th>      <th>P>|z|</th>  <th>[0.025</th>    <th>0.975]</th>  \n",
       "</tr>\n",
       "<tr>\n",
       "  <th>const</th>        <td>   -0.5722</td> <td>    0.135</td> <td>   -4.225</td> <td> 0.000</td> <td>   -0.838</td> <td>   -0.307</td>\n",
       "</tr>\n",
       "<tr>\n",
       "  <th>stars</th>        <td>    0.1472</td> <td>    0.019</td> <td>    7.554</td> <td> 0.000</td> <td>    0.109</td> <td>    0.185</td>\n",
       "</tr>\n",
       "<tr>\n",
       "  <th>review_count</th> <td>    0.0092</td> <td>    0.001</td> <td>    9.894</td> <td> 0.000</td> <td>    0.007</td> <td>    0.011</td>\n",
       "</tr>\n",
       "<tr>\n",
       "  <th>total_stars</th>  <td>   -0.0002</td> <td>    0.000</td> <td>   -0.737</td> <td> 0.461</td> <td>   -0.001</td> <td>    0.000</td>\n",
       "</tr>\n",
       "<tr>\n",
       "  <th>total_useful</th> <td>   -0.0027</td> <td>    0.000</td> <td>   -8.851</td> <td> 0.000</td> <td>   -0.003</td> <td>   -0.002</td>\n",
       "</tr>\n",
       "<tr>\n",
       "  <th>total_funny</th>  <td>   -0.0061</td> <td>    0.001</td> <td>  -11.407</td> <td> 0.000</td> <td>   -0.007</td> <td>   -0.005</td>\n",
       "</tr>\n",
       "<tr>\n",
       "  <th>total_cool</th>   <td>    0.0033</td> <td>    0.000</td> <td>    7.132</td> <td> 0.000</td> <td>    0.002</td> <td>    0.004</td>\n",
       "</tr>\n",
       "<tr>\n",
       "  <th>polarity</th>     <td>   -2.2494</td> <td>    0.164</td> <td>  -13.717</td> <td> 0.000</td> <td>   -2.571</td> <td>   -1.928</td>\n",
       "</tr>\n",
       "<tr>\n",
       "  <th>subjectivity</th> <td>    1.8208</td> <td>    0.245</td> <td>    7.443</td> <td> 0.000</td> <td>    1.341</td> <td>    2.300</td>\n",
       "</tr>\n",
       "</table>"
      ],
      "text/plain": [
       "<class 'statsmodels.iolib.summary.Summary'>\n",
       "\"\"\"\n",
       "                           Logit Regression Results                           \n",
       "==============================================================================\n",
       "Dep. Variable:                is_open   No. Observations:                50000\n",
       "Model:                          Logit   Df Residuals:                    49991\n",
       "Method:                           MLE   Df Model:                            8\n",
       "Date:                Mon, 08 Jun 2020   Pseudo R-squ.:                 0.03665\n",
       "Time:                        10:05:09   Log-Likelihood:                -29932.\n",
       "converged:                       True   LL-Null:                       -31071.\n",
       "Covariance Type:            nonrobust   LLR p-value:                     0.000\n",
       "================================================================================\n",
       "                   coef    std err          z      P>|z|      [0.025      0.975]\n",
       "--------------------------------------------------------------------------------\n",
       "const           -0.5722      0.135     -4.225      0.000      -0.838      -0.307\n",
       "stars            0.1472      0.019      7.554      0.000       0.109       0.185\n",
       "review_count     0.0092      0.001      9.894      0.000       0.007       0.011\n",
       "total_stars     -0.0002      0.000     -0.737      0.461      -0.001       0.000\n",
       "total_useful    -0.0027      0.000     -8.851      0.000      -0.003      -0.002\n",
       "total_funny     -0.0061      0.001    -11.407      0.000      -0.007      -0.005\n",
       "total_cool       0.0033      0.000      7.132      0.000       0.002       0.004\n",
       "polarity        -2.2494      0.164    -13.717      0.000      -2.571      -1.928\n",
       "subjectivity     1.8208      0.245      7.443      0.000       1.341       2.300\n",
       "================================================================================\n",
       "\"\"\""
      ]
     },
     "execution_count": 48,
     "metadata": {},
     "output_type": "execute_result"
    }
   ],
   "source": [
    "c#Checking P values.  "
   ]
  },
  {
   "cell_type": "code",
   "execution_count": 65,
   "metadata": {},
   "outputs": [
    {
     "data": {
      "text/html": [
       "<table class=\"simpletable\">\n",
       "<caption>Logit Regression Results</caption>\n",
       "<tr>\n",
       "  <th>Dep. Variable:</th>        <td>is_open</td>     <th>  No. Observations:  </th>  <td> 50000</td> \n",
       "</tr>\n",
       "<tr>\n",
       "  <th>Model:</th>                 <td>Logit</td>      <th>  Df Residuals:      </th>  <td> 49993</td> \n",
       "</tr>\n",
       "<tr>\n",
       "  <th>Method:</th>                 <td>MLE</td>       <th>  Df Model:          </th>  <td>     6</td> \n",
       "</tr>\n",
       "<tr>\n",
       "  <th>Date:</th>            <td>Mon, 08 Jun 2020</td> <th>  Pseudo R-squ.:     </th>  <td>0.03636</td>\n",
       "</tr>\n",
       "<tr>\n",
       "  <th>Time:</th>                <td>10:08:39</td>     <th>  Log-Likelihood:    </th> <td> -29941.</td>\n",
       "</tr>\n",
       "<tr>\n",
       "  <th>converged:</th>             <td>True</td>       <th>  LL-Null:           </th> <td> -31071.</td>\n",
       "</tr>\n",
       "<tr>\n",
       "  <th>Covariance Type:</th>     <td>nonrobust</td>    <th>  LLR p-value:       </th>  <td> 0.000</td> \n",
       "</tr>\n",
       "</table>\n",
       "<table class=\"simpletable\">\n",
       "<tr>\n",
       "        <td></td>          <th>coef</th>     <th>std err</th>      <th>z</th>      <th>P>|z|</th>  <th>[0.025</th>    <th>0.975]</th>  \n",
       "</tr>\n",
       "<tr>\n",
       "  <th>stars</th>        <td>    0.1220</td> <td>    0.018</td> <td>    6.740</td> <td> 0.000</td> <td>    0.087</td> <td>    0.157</td>\n",
       "</tr>\n",
       "<tr>\n",
       "  <th>review_count</th> <td>    0.0086</td> <td>    0.000</td> <td>   30.634</td> <td> 0.000</td> <td>    0.008</td> <td>    0.009</td>\n",
       "</tr>\n",
       "<tr>\n",
       "  <th>total_useful</th> <td>   -0.0026</td> <td>    0.000</td> <td>   -8.983</td> <td> 0.000</td> <td>   -0.003</td> <td>   -0.002</td>\n",
       "</tr>\n",
       "<tr>\n",
       "  <th>total_funny</th>  <td>   -0.0061</td> <td>    0.001</td> <td>  -11.982</td> <td> 0.000</td> <td>   -0.007</td> <td>   -0.005</td>\n",
       "</tr>\n",
       "<tr>\n",
       "  <th>total_cool</th>   <td>    0.0033</td> <td>    0.000</td> <td>    7.931</td> <td> 0.000</td> <td>    0.002</td> <td>    0.004</td>\n",
       "</tr>\n",
       "<tr>\n",
       "  <th>polarity</th>     <td>   -2.0234</td> <td>    0.154</td> <td>  -13.151</td> <td> 0.000</td> <td>   -2.325</td> <td>   -1.722</td>\n",
       "</tr>\n",
       "<tr>\n",
       "  <th>subjectivity</th> <td>    0.8673</td> <td>    0.086</td> <td>   10.102</td> <td> 0.000</td> <td>    0.699</td> <td>    1.036</td>\n",
       "</tr>\n",
       "</table>"
      ],
      "text/plain": [
       "<class 'statsmodels.iolib.summary.Summary'>\n",
       "\"\"\"\n",
       "                           Logit Regression Results                           \n",
       "==============================================================================\n",
       "Dep. Variable:                is_open   No. Observations:                50000\n",
       "Model:                          Logit   Df Residuals:                    49993\n",
       "Method:                           MLE   Df Model:                            6\n",
       "Date:                Mon, 08 Jun 2020   Pseudo R-squ.:                 0.03636\n",
       "Time:                        10:08:39   Log-Likelihood:                -29941.\n",
       "converged:                       True   LL-Null:                       -31071.\n",
       "Covariance Type:            nonrobust   LLR p-value:                     0.000\n",
       "================================================================================\n",
       "                   coef    std err          z      P>|z|      [0.025      0.975]\n",
       "--------------------------------------------------------------------------------\n",
       "stars            0.1220      0.018      6.740      0.000       0.087       0.157\n",
       "review_count     0.0086      0.000     30.634      0.000       0.008       0.009\n",
       "total_useful    -0.0026      0.000     -8.983      0.000      -0.003      -0.002\n",
       "total_funny     -0.0061      0.001    -11.982      0.000      -0.007      -0.005\n",
       "total_cool       0.0033      0.000      7.931      0.000       0.002       0.004\n",
       "polarity        -2.0234      0.154    -13.151      0.000      -2.325      -1.722\n",
       "subjectivity     0.8673      0.086     10.102      0.000       0.699       1.036\n",
       "================================================================================\n",
       "\"\"\""
      ]
     },
     "execution_count": 65,
     "metadata": {},
     "output_type": "execute_result"
    }
   ],
   "source": [
    "model.summary() #without total_stars\n"
   ]
  },
  {
   "cell_type": "code",
   "execution_count": 85,
   "metadata": {},
   "outputs": [
    {
     "data": {
      "text/plain": [
       "1.1297541017803188"
      ]
     },
     "execution_count": 85,
     "metadata": {},
     "output_type": "execute_result"
    }
   ],
   "source": [
    "np.exp(0.1220)"
   ]
  },
  {
   "cell_type": "markdown",
   "metadata": {},
   "source": [
    "Each star represents a 13% increase in odds the restaurant is open.  (all else being constant)"
   ]
  },
  {
   "cell_type": "code",
   "execution_count": 80,
   "metadata": {},
   "outputs": [
    {
     "data": {
      "text/plain": [
       "1.008637086237646"
      ]
     },
     "execution_count": 80,
     "metadata": {},
     "output_type": "execute_result"
    }
   ],
   "source": [
    "np.exp(0.0086)"
   ]
  },
  {
   "cell_type": "markdown",
   "metadata": {},
   "source": [
    "For each review a .8% increase in odds of being open.  "
   ]
  },
  {
   "cell_type": "code",
   "execution_count": 81,
   "metadata": {},
   "outputs": [
    {
     "data": {
      "text/plain": [
       "0.9974033770725698"
      ]
     },
     "execution_count": 81,
     "metadata": {},
     "output_type": "execute_result"
    }
   ],
   "source": [
    "np.exp(-0.0026)"
   ]
  },
  {
   "cell_type": "code",
   "execution_count": 82,
   "metadata": {},
   "outputs": [
    {
     "data": {
      "text/plain": [
       "0.993918567227454"
      ]
     },
     "execution_count": 82,
     "metadata": {},
     "output_type": "execute_result"
    }
   ],
   "source": [
    "np.exp(-0.0061)"
   ]
  },
  {
   "cell_type": "code",
   "execution_count": 83,
   "metadata": {},
   "outputs": [
    {
     "data": {
      "text/plain": [
       "1.0033054509944446"
      ]
     },
     "execution_count": 83,
     "metadata": {},
     "output_type": "execute_result"
    }
   ],
   "source": [
    "np.exp(0.0033)"
   ]
  },
  {
   "cell_type": "code",
   "execution_count": 68,
   "metadata": {},
   "outputs": [
    {
     "data": {
      "text/plain": [
       "0.13220520237919386"
      ]
     },
     "execution_count": 68,
     "metadata": {},
     "output_type": "execute_result"
    }
   ],
   "source": [
    "np.exp(-2.0234)"
   ]
  },
  {
   "cell_type": "markdown",
   "metadata": {},
   "source": [
    "87% decrease in odds of being open for every increased point in polarity"
   ]
  },
  {
   "cell_type": "code",
   "execution_count": 69,
   "metadata": {},
   "outputs": [
    {
     "data": {
      "text/plain": [
       "2.3804748866848437"
      ]
     },
     "execution_count": 69,
     "metadata": {},
     "output_type": "execute_result"
    }
   ],
   "source": [
    "np.exp(0.8673)"
   ]
  },
  {
   "cell_type": "markdown",
   "metadata": {},
   "source": [
    "As subjectivity increases, odds of being open is 2.3 times higher.  "
   ]
  },
  {
   "cell_type": "code",
   "execution_count": 130,
   "metadata": {},
   "outputs": [
    {
     "data": {
      "text/plain": [
       "0.18002064975317913"
      ]
     },
     "execution_count": 130,
     "metadata": {},
     "output_type": "execute_result"
    }
   ],
   "source": [
    "df_wtext['polarity'].mean()"
   ]
  },
  {
   "cell_type": "code",
   "execution_count": 131,
   "metadata": {},
   "outputs": [
    {
     "data": {
      "text/plain": [
       "0.550005137262014"
      ]
     },
     "execution_count": 131,
     "metadata": {},
     "output_type": "execute_result"
    }
   ],
   "source": [
    "df_wtext['subjectivity'].mean()"
   ]
  },
  {
   "cell_type": "code",
   "execution_count": null,
   "metadata": {},
   "outputs": [],
   "source": []
  }
 ],
 "metadata": {
  "kernelspec": {
   "display_name": "Python 3",
   "language": "python",
   "name": "python3"
  },
  "language_info": {
   "codemirror_mode": {
    "name": "ipython",
    "version": 3
   },
   "file_extension": ".py",
   "mimetype": "text/x-python",
   "name": "python",
   "nbconvert_exporter": "python",
   "pygments_lexer": "ipython3",
   "version": "3.7.6"
  }
 },
 "nbformat": 4,
 "nbformat_minor": 4
}
